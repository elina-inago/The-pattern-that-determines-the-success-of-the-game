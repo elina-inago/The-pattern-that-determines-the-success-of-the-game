{
 "cells": [
  {
   "cell_type": "markdown",
   "metadata": {},
   "source": [
    "# Нахождение закономерности в успешности игр\n",
    "\n",
    "Описание проекта. \n",
    "\n",
    "Вы работаете в интернет-магазине «Стримчик», который продаёт по всему миру компьютерные игры. Из открытых источников доступны исторические данные о продажах игр, оценки пользователей и экспертов, жанры и платформы (например, Xbox или PlayStation). Вам нужно выявить определяющие успешность игры закономерности. Это позволит сделать ставку на потенциально популярный продукт и спланировать рекламные кампании.\n",
    "\n",
    "Перед вами данные до 2016 года. Представим, что сейчас декабрь 2016 г., и вы планируете кампанию на 2017-й. Нужно отработать принцип работы с данными. Неважно, прогнозируете ли вы продажи на 2017 год по данным 2016-го или же 2027-й — по данным 2026 года.\n",
    "\n",
    "В наборе данных попадается аббревиатура ESRB (Entertainment Software Rating Board) — это ассоциация, определяющая возрастной рейтинг компьютерных игр. ESRB оценивает игровой контент и присваивает ему подходящую возрастную категорию, например, «Для взрослых», «Для детей младшего возраста» или «Для подростков»."
   ]
  },
  {
   "cell_type": "markdown",
   "metadata": {},
   "source": [
    "## Изучение данных из файла"
   ]
  },
  {
   "cell_type": "markdown",
   "metadata": {},
   "source": [
    "Импортируем библиотеки."
   ]
  },
  {
   "cell_type": "code",
   "execution_count": 1,
   "metadata": {},
   "outputs": [],
   "source": [
    "import pandas as pd\n",
    "import seaborn as sns\n",
    "import matplotlib.pyplot as plt\n",
    "import numpy as np\n",
    "from scipy import stats as st\n",
    "from scipy.stats import norm\n",
    "pd.set_option('display.max_columns', None)"
   ]
  },
  {
   "cell_type": "markdown",
   "metadata": {},
   "source": [
    "Прочитаем файл и сохраним в переменной."
   ]
  },
  {
   "cell_type": "code",
   "execution_count": 2,
   "metadata": {},
   "outputs": [],
   "source": [
    "df = pd.read_csv('/datasets/games.csv')"
   ]
  },
  {
   "cell_type": "code",
   "execution_count": 3,
   "metadata": {},
   "outputs": [
    {
     "name": "stdout",
     "output_type": "stream",
     "text": [
      "<class 'pandas.core.frame.DataFrame'>\n",
      "RangeIndex: 16715 entries, 0 to 16714\n",
      "Data columns (total 11 columns):\n",
      "Name               16713 non-null object\n",
      "Platform           16715 non-null object\n",
      "Year_of_Release    16446 non-null float64\n",
      "Genre              16713 non-null object\n",
      "NA_sales           16715 non-null float64\n",
      "EU_sales           16715 non-null float64\n",
      "JP_sales           16715 non-null float64\n",
      "Other_sales        16715 non-null float64\n",
      "Critic_Score       8137 non-null float64\n",
      "User_Score         10014 non-null object\n",
      "Rating             9949 non-null object\n",
      "dtypes: float64(6), object(5)\n",
      "memory usage: 1.4+ MB\n",
      "None\n"
     ]
    },
    {
     "data": {
      "text/html": [
       "<div>\n",
       "<style scoped>\n",
       "    .dataframe tbody tr th:only-of-type {\n",
       "        vertical-align: middle;\n",
       "    }\n",
       "\n",
       "    .dataframe tbody tr th {\n",
       "        vertical-align: top;\n",
       "    }\n",
       "\n",
       "    .dataframe thead th {\n",
       "        text-align: right;\n",
       "    }\n",
       "</style>\n",
       "<table border=\"1\" class=\"dataframe\">\n",
       "  <thead>\n",
       "    <tr style=\"text-align: right;\">\n",
       "      <th></th>\n",
       "      <th>Name</th>\n",
       "      <th>Platform</th>\n",
       "      <th>Year_of_Release</th>\n",
       "      <th>Genre</th>\n",
       "      <th>NA_sales</th>\n",
       "      <th>EU_sales</th>\n",
       "      <th>JP_sales</th>\n",
       "      <th>Other_sales</th>\n",
       "      <th>Critic_Score</th>\n",
       "      <th>User_Score</th>\n",
       "      <th>Rating</th>\n",
       "    </tr>\n",
       "  </thead>\n",
       "  <tbody>\n",
       "    <tr>\n",
       "      <td>0</td>\n",
       "      <td>Wii Sports</td>\n",
       "      <td>Wii</td>\n",
       "      <td>2006.0</td>\n",
       "      <td>Sports</td>\n",
       "      <td>41.36</td>\n",
       "      <td>28.96</td>\n",
       "      <td>3.77</td>\n",
       "      <td>8.45</td>\n",
       "      <td>76.0</td>\n",
       "      <td>8</td>\n",
       "      <td>E</td>\n",
       "    </tr>\n",
       "    <tr>\n",
       "      <td>1</td>\n",
       "      <td>Super Mario Bros.</td>\n",
       "      <td>NES</td>\n",
       "      <td>1985.0</td>\n",
       "      <td>Platform</td>\n",
       "      <td>29.08</td>\n",
       "      <td>3.58</td>\n",
       "      <td>6.81</td>\n",
       "      <td>0.77</td>\n",
       "      <td>NaN</td>\n",
       "      <td>NaN</td>\n",
       "      <td>NaN</td>\n",
       "    </tr>\n",
       "    <tr>\n",
       "      <td>2</td>\n",
       "      <td>Mario Kart Wii</td>\n",
       "      <td>Wii</td>\n",
       "      <td>2008.0</td>\n",
       "      <td>Racing</td>\n",
       "      <td>15.68</td>\n",
       "      <td>12.76</td>\n",
       "      <td>3.79</td>\n",
       "      <td>3.29</td>\n",
       "      <td>82.0</td>\n",
       "      <td>8.3</td>\n",
       "      <td>E</td>\n",
       "    </tr>\n",
       "    <tr>\n",
       "      <td>3</td>\n",
       "      <td>Wii Sports Resort</td>\n",
       "      <td>Wii</td>\n",
       "      <td>2009.0</td>\n",
       "      <td>Sports</td>\n",
       "      <td>15.61</td>\n",
       "      <td>10.93</td>\n",
       "      <td>3.28</td>\n",
       "      <td>2.95</td>\n",
       "      <td>80.0</td>\n",
       "      <td>8</td>\n",
       "      <td>E</td>\n",
       "    </tr>\n",
       "    <tr>\n",
       "      <td>4</td>\n",
       "      <td>Pokemon Red/Pokemon Blue</td>\n",
       "      <td>GB</td>\n",
       "      <td>1996.0</td>\n",
       "      <td>Role-Playing</td>\n",
       "      <td>11.27</td>\n",
       "      <td>8.89</td>\n",
       "      <td>10.22</td>\n",
       "      <td>1.00</td>\n",
       "      <td>NaN</td>\n",
       "      <td>NaN</td>\n",
       "      <td>NaN</td>\n",
       "    </tr>\n",
       "  </tbody>\n",
       "</table>\n",
       "</div>"
      ],
      "text/plain": [
       "                       Name Platform  Year_of_Release         Genre  NA_sales  \\\n",
       "0                Wii Sports      Wii           2006.0        Sports     41.36   \n",
       "1         Super Mario Bros.      NES           1985.0      Platform     29.08   \n",
       "2            Mario Kart Wii      Wii           2008.0        Racing     15.68   \n",
       "3         Wii Sports Resort      Wii           2009.0        Sports     15.61   \n",
       "4  Pokemon Red/Pokemon Blue       GB           1996.0  Role-Playing     11.27   \n",
       "\n",
       "   EU_sales  JP_sales  Other_sales  Critic_Score User_Score Rating  \n",
       "0     28.96      3.77         8.45          76.0          8      E  \n",
       "1      3.58      6.81         0.77           NaN        NaN    NaN  \n",
       "2     12.76      3.79         3.29          82.0        8.3      E  \n",
       "3     10.93      3.28         2.95          80.0          8      E  \n",
       "4      8.89     10.22         1.00           NaN        NaN    NaN  "
      ]
     },
     "metadata": {},
     "output_type": "display_data"
    }
   ],
   "source": [
    "print(df.info())\n",
    "display(df.head())"
   ]
  },
  {
   "cell_type": "markdown",
   "metadata": {},
   "source": [
    "В датасесте есть следующие столбцы:\n",
    "\n",
    "* `Name` — название игры\n",
    "* `Platform` — платформа\n",
    "* `Year_of_Release` — год выпуска\n",
    "* `Genre` — жанр игры\n",
    "* `NA_sales` — продажи в Северной Америке (миллионы проданных копий)\n",
    "* `EU_sales` — продажи в Европе (миллионы проданных копий)\n",
    "* `JP_sales` — продажи в Японии (миллионы проданных копий)\n",
    "* `Other_sales` — продажи в других странах (миллионы проданных копий)\n",
    "* `Critic_Score` — оценка критиков (максимум 100)\n",
    "* `User_Score` — оценка пользователей (максимум 10)\n",
    "* `Rating` — рейтинг от организации ESRB (англ. Entertainment Software Rating Board). Эта ассоциация определяет рейтинг компьютерных игр и присваивает им подходящую возрастную категорию."
   ]
  },
  {
   "cell_type": "markdown",
   "metadata": {},
   "source": [
    "Выводы:\n",
    "\n",
    "1. В данных есть пропуски.\n",
    "2. Названия столбцов надо привести к нижнему регистру.\n",
    "3. Столбец с годом надо привести к целочисленному формату."
   ]
  },
  {
   "cell_type": "markdown",
   "metadata": {},
   "source": [
    "## Предобработка данных"
   ]
  },
  {
   "cell_type": "markdown",
   "metadata": {},
   "source": [
    "Для начала проверим есть ли в данных дубликаты."
   ]
  },
  {
   "cell_type": "code",
   "execution_count": 4,
   "metadata": {},
   "outputs": [
    {
     "data": {
      "text/plain": [
       "0"
      ]
     },
     "execution_count": 4,
     "metadata": {},
     "output_type": "execute_result"
    }
   ],
   "source": [
    "df.duplicated().sum()"
   ]
  },
  {
   "cell_type": "markdown",
   "metadata": {},
   "source": [
    "Явных дубликатов нет.\n",
    "\n",
    "Приведём названия столбцов к нижнему регистру."
   ]
  },
  {
   "cell_type": "code",
   "execution_count": 5,
   "metadata": {},
   "outputs": [],
   "source": [
    "df.columns = [x.lower() for x in df.columns]"
   ]
  },
  {
   "cell_type": "markdown",
   "metadata": {},
   "source": [
    "Посмотрим в каких столбцах есть пропуски и сколько их."
   ]
  },
  {
   "cell_type": "code",
   "execution_count": 6,
   "metadata": {},
   "outputs": [
    {
     "data": {
      "text/plain": [
       "name                  2\n",
       "platform              0\n",
       "year_of_release     269\n",
       "genre                 2\n",
       "na_sales              0\n",
       "eu_sales              0\n",
       "jp_sales              0\n",
       "other_sales           0\n",
       "critic_score       8578\n",
       "user_score         6701\n",
       "rating             6766\n",
       "dtype: int64"
      ]
     },
     "execution_count": 6,
     "metadata": {},
     "output_type": "execute_result"
    }
   ],
   "source": [
    "df.isnull().sum()"
   ]
  },
  {
   "cell_type": "markdown",
   "metadata": {},
   "source": [
    "Посмотрим на пропуски в name и genre."
   ]
  },
  {
   "cell_type": "code",
   "execution_count": 7,
   "metadata": {},
   "outputs": [
    {
     "data": {
      "text/html": [
       "<div>\n",
       "<style scoped>\n",
       "    .dataframe tbody tr th:only-of-type {\n",
       "        vertical-align: middle;\n",
       "    }\n",
       "\n",
       "    .dataframe tbody tr th {\n",
       "        vertical-align: top;\n",
       "    }\n",
       "\n",
       "    .dataframe thead th {\n",
       "        text-align: right;\n",
       "    }\n",
       "</style>\n",
       "<table border=\"1\" class=\"dataframe\">\n",
       "  <thead>\n",
       "    <tr style=\"text-align: right;\">\n",
       "      <th></th>\n",
       "      <th>name</th>\n",
       "      <th>platform</th>\n",
       "      <th>year_of_release</th>\n",
       "      <th>genre</th>\n",
       "      <th>na_sales</th>\n",
       "      <th>eu_sales</th>\n",
       "      <th>jp_sales</th>\n",
       "      <th>other_sales</th>\n",
       "      <th>critic_score</th>\n",
       "      <th>user_score</th>\n",
       "      <th>rating</th>\n",
       "    </tr>\n",
       "  </thead>\n",
       "  <tbody>\n",
       "    <tr>\n",
       "      <td>659</td>\n",
       "      <td>NaN</td>\n",
       "      <td>GEN</td>\n",
       "      <td>1993.0</td>\n",
       "      <td>NaN</td>\n",
       "      <td>1.78</td>\n",
       "      <td>0.53</td>\n",
       "      <td>0.00</td>\n",
       "      <td>0.08</td>\n",
       "      <td>NaN</td>\n",
       "      <td>NaN</td>\n",
       "      <td>NaN</td>\n",
       "    </tr>\n",
       "    <tr>\n",
       "      <td>14244</td>\n",
       "      <td>NaN</td>\n",
       "      <td>GEN</td>\n",
       "      <td>1993.0</td>\n",
       "      <td>NaN</td>\n",
       "      <td>0.00</td>\n",
       "      <td>0.00</td>\n",
       "      <td>0.03</td>\n",
       "      <td>0.00</td>\n",
       "      <td>NaN</td>\n",
       "      <td>NaN</td>\n",
       "      <td>NaN</td>\n",
       "    </tr>\n",
       "  </tbody>\n",
       "</table>\n",
       "</div>"
      ],
      "text/plain": [
       "      name platform  year_of_release genre  na_sales  eu_sales  jp_sales  \\\n",
       "659    NaN      GEN           1993.0   NaN      1.78      0.53      0.00   \n",
       "14244  NaN      GEN           1993.0   NaN      0.00      0.00      0.03   \n",
       "\n",
       "       other_sales  critic_score user_score rating  \n",
       "659           0.08           NaN        NaN    NaN  \n",
       "14244         0.00           NaN        NaN    NaN  "
      ]
     },
     "execution_count": 7,
     "metadata": {},
     "output_type": "execute_result"
    }
   ],
   "source": [
    "df.sort_values(by='genre').tail(2)"
   ]
  },
  {
   "cell_type": "markdown",
   "metadata": {},
   "source": [
    "Пропуски одновременно и в названии и в жанре, заполнить пропуски тут не получится, оставим как есть. Так же пропуски в critic_score, user_score и rating заполнить не получится. Пропусков в этих столбцах много, а заполнение их медианными или средними значениями может помешать в дальнейшем анализе."
   ]
  },
  {
   "cell_type": "markdown",
   "metadata": {},
   "source": [
    "Проверим столбцы на аномальные значения, для этого выведем список уникальных значений."
   ]
  },
  {
   "cell_type": "code",
   "execution_count": 9,
   "metadata": {},
   "outputs": [
    {
     "data": {
      "text/plain": [
       "[array(['Wii', 'NES', 'GB', 'DS', 'X360', 'PS3', 'PS2', 'SNES', 'GBA',\n",
       "        'PS4', '3DS', 'N64', 'PS', 'XB', 'PC', '2600', 'PSP', 'XOne',\n",
       "        'WiiU', 'GC', 'GEN', 'DC', 'PSV', 'SAT', 'SCD', 'WS', 'NG', 'TG16',\n",
       "        '3DO', 'GG', 'PCFX'], dtype=object),\n",
       " array([2006., 1985., 2008., 2009., 1996., 1989., 1984., 2005., 1999.,\n",
       "        2007., 2010., 2013., 2004., 1990., 1988., 2002., 2001., 2011.,\n",
       "        1998., 2015., 2012., 2014., 1992., 1997., 1993., 1994., 1982.,\n",
       "        2016., 2003., 1986., 2000.,   nan, 1995., 1991., 1981., 1987.,\n",
       "        1980., 1983.]),\n",
       " array(['Sports', 'Platform', 'Racing', 'Role-Playing', 'Puzzle', 'Misc',\n",
       "        'Shooter', 'Simulation', 'Action', 'Fighting', 'Adventure',\n",
       "        'Strategy', nan], dtype=object),\n",
       " array([76., nan, 82., 80., 89., 58., 87., 91., 61., 97., 95., 77., 88.,\n",
       "        83., 94., 93., 85., 86., 98., 96., 90., 84., 73., 74., 78., 92.,\n",
       "        71., 72., 68., 62., 49., 67., 81., 66., 56., 79., 70., 59., 64.,\n",
       "        75., 60., 63., 69., 50., 25., 42., 44., 55., 48., 57., 29., 47.,\n",
       "        65., 54., 20., 53., 37., 38., 33., 52., 30., 32., 43., 45., 51.,\n",
       "        40., 46., 39., 34., 35., 41., 36., 28., 31., 27., 26., 19., 23.,\n",
       "        24., 21., 17., 22., 13.]),\n",
       " array(['8', nan, '8.3', '8.5', '6.6', '8.4', '8.6', '7.7', '6.3', '7.4',\n",
       "        '8.2', '9', '7.9', '8.1', '8.7', '7.1', '3.4', '5.3', '4.8', '3.2',\n",
       "        '8.9', '6.4', '7.8', '7.5', '2.6', '7.2', '9.2', '7', '7.3', '4.3',\n",
       "        '7.6', '5.7', '5', '9.1', '6.5', 'tbd', '8.8', '6.9', '9.4', '6.8',\n",
       "        '6.1', '6.7', '5.4', '4', '4.9', '4.5', '9.3', '6.2', '4.2', '6',\n",
       "        '3.7', '4.1', '5.8', '5.6', '5.5', '4.4', '4.6', '5.9', '3.9',\n",
       "        '3.1', '2.9', '5.2', '3.3', '4.7', '5.1', '3.5', '2.5', '1.9', '3',\n",
       "        '2.7', '2.2', '2', '9.5', '2.1', '3.6', '2.8', '1.8', '3.8', '0',\n",
       "        '1.6', '9.6', '2.4', '1.7', '1.1', '0.3', '1.5', '0.7', '1.2',\n",
       "        '2.3', '0.5', '1.3', '0.2', '0.6', '1.4', '0.9', '1', '9.7'],\n",
       "       dtype=object),\n",
       " array(['E', nan, 'M', 'T', 'E10+', 'K-A', 'AO', 'EC', 'RP'], dtype=object)]"
      ]
     },
     "execution_count": 9,
     "metadata": {},
     "output_type": "execute_result"
    }
   ],
   "source": [
    "[x.unique() for x in (df['platform'], df['year_of_release'], df['genre'], df['critic_score'], df['user_score'], df['rating'])]"
   ]
  },
  {
   "cell_type": "markdown",
   "metadata": {},
   "source": [
    "Согласно рейтингу организации ESRB, рейтинг 'K-A' в 1998 году был переименован в 'E'. Исправим этот момент в данных."
   ]
  },
  {
   "cell_type": "code",
   "execution_count": 10,
   "metadata": {},
   "outputs": [],
   "source": [
    "df['rating'] = df['rating'].replace('K-A', 'E')"
   ]
  },
  {
   "cell_type": "markdown",
   "metadata": {},
   "source": [
    "В столбце critic_score можно заметить значение \"tbd\" (\"to be determined\", \"to be defined\"), оно означает, что у игры ещё нет рейтинга.\n",
    "\n",
    "Заменим эти значения на NaN и приведём данные к числовому типу."
   ]
  },
  {
   "cell_type": "code",
   "execution_count": 11,
   "metadata": {},
   "outputs": [],
   "source": [
    "df['user_score'] = pd.to_numeric(df['user_score'], errors='coerce')"
   ]
  },
  {
   "cell_type": "markdown",
   "metadata": {},
   "source": [
    "Для удобства столбец critic_score к такому же формату как и столбец user_score."
   ]
  },
  {
   "cell_type": "code",
   "execution_count": 12,
   "metadata": {},
   "outputs": [],
   "source": [
    "df['critic_score'] = df['critic_score'] / 10"
   ]
  },
  {
   "cell_type": "markdown",
   "metadata": {},
   "source": [
    "Посчитаем суммарные продажи во всех регионах и запишем их в total_sales."
   ]
  },
  {
   "cell_type": "code",
   "execution_count": 13,
   "metadata": {},
   "outputs": [],
   "source": [
    "df['total_sales'] = df['na_sales'] + df['eu_sales'] + df['jp_sales'] + df['other_sales']"
   ]
  },
  {
   "cell_type": "markdown",
   "metadata": {},
   "source": [
    "Посмотрим на итог предобработки данных."
   ]
  },
  {
   "cell_type": "code",
   "execution_count": 14,
   "metadata": {},
   "outputs": [
    {
     "name": "stdout",
     "output_type": "stream",
     "text": [
      "<class 'pandas.core.frame.DataFrame'>\n",
      "RangeIndex: 16715 entries, 0 to 16714\n",
      "Data columns (total 12 columns):\n",
      "name               16713 non-null object\n",
      "platform           16715 non-null object\n",
      "year_of_release    16446 non-null float64\n",
      "genre              16713 non-null object\n",
      "na_sales           16715 non-null float64\n",
      "eu_sales           16715 non-null float64\n",
      "jp_sales           16715 non-null float64\n",
      "other_sales        16715 non-null float64\n",
      "critic_score       8137 non-null float64\n",
      "user_score         7590 non-null float64\n",
      "rating             9949 non-null object\n",
      "total_sales        16715 non-null float64\n",
      "dtypes: float64(8), object(4)\n",
      "memory usage: 1.5+ MB\n"
     ]
    },
    {
     "data": {
      "text/html": [
       "<div>\n",
       "<style scoped>\n",
       "    .dataframe tbody tr th:only-of-type {\n",
       "        vertical-align: middle;\n",
       "    }\n",
       "\n",
       "    .dataframe tbody tr th {\n",
       "        vertical-align: top;\n",
       "    }\n",
       "\n",
       "    .dataframe thead th {\n",
       "        text-align: right;\n",
       "    }\n",
       "</style>\n",
       "<table border=\"1\" class=\"dataframe\">\n",
       "  <thead>\n",
       "    <tr style=\"text-align: right;\">\n",
       "      <th></th>\n",
       "      <th>name</th>\n",
       "      <th>platform</th>\n",
       "      <th>year_of_release</th>\n",
       "      <th>genre</th>\n",
       "      <th>na_sales</th>\n",
       "      <th>eu_sales</th>\n",
       "      <th>jp_sales</th>\n",
       "      <th>other_sales</th>\n",
       "      <th>critic_score</th>\n",
       "      <th>user_score</th>\n",
       "      <th>rating</th>\n",
       "      <th>total_sales</th>\n",
       "    </tr>\n",
       "  </thead>\n",
       "  <tbody>\n",
       "    <tr>\n",
       "      <td>2462</td>\n",
       "      <td>Skate 2</td>\n",
       "      <td>PS3</td>\n",
       "      <td>2009.0</td>\n",
       "      <td>Sports</td>\n",
       "      <td>0.46</td>\n",
       "      <td>0.25</td>\n",
       "      <td>0.01</td>\n",
       "      <td>0.12</td>\n",
       "      <td>8.4</td>\n",
       "      <td>7.8</td>\n",
       "      <td>T</td>\n",
       "      <td>0.84</td>\n",
       "    </tr>\n",
       "    <tr>\n",
       "      <td>11900</td>\n",
       "      <td>Exhibition Volume 4</td>\n",
       "      <td>XB</td>\n",
       "      <td>2003.0</td>\n",
       "      <td>Misc</td>\n",
       "      <td>0.05</td>\n",
       "      <td>0.02</td>\n",
       "      <td>0.00</td>\n",
       "      <td>0.00</td>\n",
       "      <td>NaN</td>\n",
       "      <td>NaN</td>\n",
       "      <td>NaN</td>\n",
       "      <td>0.07</td>\n",
       "    </tr>\n",
       "    <tr>\n",
       "      <td>12926</td>\n",
       "      <td>Defendin' De Penguin</td>\n",
       "      <td>Wii</td>\n",
       "      <td>2008.0</td>\n",
       "      <td>Strategy</td>\n",
       "      <td>0.05</td>\n",
       "      <td>0.00</td>\n",
       "      <td>0.00</td>\n",
       "      <td>0.00</td>\n",
       "      <td>NaN</td>\n",
       "      <td>NaN</td>\n",
       "      <td>NaN</td>\n",
       "      <td>0.05</td>\n",
       "    </tr>\n",
       "    <tr>\n",
       "      <td>14140</td>\n",
       "      <td>The Legend of Heroes: Trails in the Sky SC Evo...</td>\n",
       "      <td>PSV</td>\n",
       "      <td>2015.0</td>\n",
       "      <td>Role-Playing</td>\n",
       "      <td>0.00</td>\n",
       "      <td>0.00</td>\n",
       "      <td>0.03</td>\n",
       "      <td>0.00</td>\n",
       "      <td>NaN</td>\n",
       "      <td>NaN</td>\n",
       "      <td>NaN</td>\n",
       "      <td>0.03</td>\n",
       "    </tr>\n",
       "    <tr>\n",
       "      <td>9077</td>\n",
       "      <td>Marvel vs. Capcom 2: New Age of Heroes</td>\n",
       "      <td>DC</td>\n",
       "      <td>2000.0</td>\n",
       "      <td>Fighting</td>\n",
       "      <td>0.00</td>\n",
       "      <td>0.00</td>\n",
       "      <td>0.14</td>\n",
       "      <td>0.00</td>\n",
       "      <td>NaN</td>\n",
       "      <td>NaN</td>\n",
       "      <td>NaN</td>\n",
       "      <td>0.14</td>\n",
       "    </tr>\n",
       "  </tbody>\n",
       "</table>\n",
       "</div>"
      ],
      "text/plain": [
       "                                                    name platform  \\\n",
       "2462                                             Skate 2      PS3   \n",
       "11900                                Exhibition Volume 4       XB   \n",
       "12926                               Defendin' De Penguin      Wii   \n",
       "14140  The Legend of Heroes: Trails in the Sky SC Evo...      PSV   \n",
       "9077              Marvel vs. Capcom 2: New Age of Heroes       DC   \n",
       "\n",
       "       year_of_release         genre  na_sales  eu_sales  jp_sales  \\\n",
       "2462            2009.0        Sports      0.46      0.25      0.01   \n",
       "11900           2003.0          Misc      0.05      0.02      0.00   \n",
       "12926           2008.0      Strategy      0.05      0.00      0.00   \n",
       "14140           2015.0  Role-Playing      0.00      0.00      0.03   \n",
       "9077            2000.0      Fighting      0.00      0.00      0.14   \n",
       "\n",
       "       other_sales  critic_score  user_score rating  total_sales  \n",
       "2462          0.12           8.4         7.8      T         0.84  \n",
       "11900         0.00           NaN         NaN    NaN         0.07  \n",
       "12926         0.00           NaN         NaN    NaN         0.05  \n",
       "14140         0.00           NaN         NaN    NaN         0.03  \n",
       "9077          0.00           NaN         NaN    NaN         0.14  "
      ]
     },
     "metadata": {},
     "output_type": "display_data"
    }
   ],
   "source": [
    "df.info()\n",
    "display(df.sample(5))"
   ]
  },
  {
   "cell_type": "markdown",
   "metadata": {},
   "source": [
    "## Исследовательский анализ данных"
   ]
  },
  {
   "cell_type": "markdown",
   "metadata": {},
   "source": [
    "### Посмотрите, сколько игр выпускалось в разные годы. Важны ли данные за все периоды?"
   ]
  },
  {
   "cell_type": "markdown",
   "metadata": {},
   "source": [
    "Составим сводную таблицу по количеству выпущенных игр по годам, построим гистограмму по количеству игр и график по продажам в каждом году."
   ]
  },
  {
   "cell_type": "code",
   "execution_count": 15,
   "metadata": {},
   "outputs": [
    {
     "data": {
      "image/png": "[encoded data removed]",
      "text/plain": [
       "<Figure size 1080x360 with 1 Axes>"
      ]
     },
     "metadata": {
      "needs_background": "light"
     },
     "output_type": "display_data"
    }
   ],
   "source": [
    "games_per_year = df.pivot_table(columns='year_of_release', values='name', aggfunc=['count'])\n",
    "\n",
    "df['year_of_release'].hist(\n",
    "    bins=len(df['year_of_release'].unique()), \n",
    "    figsize=(15,5)).set(xlabel='год', ylabel='Количество игр');\n",
    "plt.title('Кол-во выпущенных игр по годам')\n",
    "plt.show()"
   ]
  },
  {
   "cell_type": "code",
   "execution_count": 16,
   "metadata": {
    "scrolled": true
   },
   "outputs": [
    {
     "data": {
      "image/png": "[encoded data removed]",
      "text/plain": [
       "<Figure size 1080x360 with 1 Axes>"
      ]
     },
     "metadata": {
      "needs_background": "light"
     },
     "output_type": "display_data"
    }
   ],
   "source": [
    "sales_per_year = df.pivot_table(index='year_of_release', values='total_sales', aggfunc=['sum'])\n",
    "\n",
    "sales_per_year.plot(\n",
    "    style='o-',\n",
    "    figsize=(15,5), \n",
    "    c='g', \n",
    "    grid=True, \n",
    "    legend=False).set(xlabel='год', ylabel='Продажи, $ млн.');\n",
    "plt.title('Суммы продаж игр по годам')\n",
    "plt.show()"
   ]
  },
  {
   "cell_type": "markdown",
   "metadata": {},
   "source": [
    "По двум гистограммам видно, что выпуск и продажа игр сократилась после 2009 года, это можно объяснить тем, что игроки стали более востребованны к качеству игр, да и сами игры с каждым годом становятся всё сложнее в разработке, требуя много времени и сил на создание. \n",
    "\n",
    "Данные за года раньше 1995 года, я считаю, можно не учитывать, так как сами игры и игровые платформы начали приобретать широкую популярность после 90х годов."
   ]
  },
  {
   "cell_type": "markdown",
   "metadata": {},
   "source": [
    "Отфильтрем таблицу, сохранив только данные за 1995 - 2016 года. Создадим ещё одну таблицу с данными за 3 последних года, для анализа продаж в дальнейшем."
   ]
  },
  {
   "cell_type": "code",
   "execution_count": 17,
   "metadata": {},
   "outputs": [],
   "source": [
    "df_filtered = df[df['year_of_release'] >= 1995]\n",
    "df_3_years = df[df['year_of_release'] >= 2014]"
   ]
  },
  {
   "cell_type": "markdown",
   "metadata": {},
   "source": [
    "### Посмотрите, как менялись продажи по платформам. Выберите платформы с наибольшими суммарными продажами и постройте распределение по годам. За какой характерный срок появляются новые и исчезают старые платформы?"
   ]
  },
  {
   "cell_type": "markdown",
   "metadata": {},
   "source": [
    "Построим сводну таблицу продаж каждой платформы по годам."
   ]
  },
  {
   "cell_type": "code",
   "execution_count": 18,
   "metadata": {},
   "outputs": [
    {
     "data": {
      "text/html": [
       "<div>\n",
       "<style scoped>\n",
       "    .dataframe tbody tr th:only-of-type {\n",
       "        vertical-align: middle;\n",
       "    }\n",
       "\n",
       "    .dataframe tbody tr th {\n",
       "        vertical-align: top;\n",
       "    }\n",
       "\n",
       "    .dataframe thead th {\n",
       "        text-align: right;\n",
       "    }\n",
       "</style>\n",
       "<table border=\"1\" class=\"dataframe\">\n",
       "  <thead>\n",
       "    <tr style=\"text-align: right;\">\n",
       "      <th>year_of_release</th>\n",
       "      <th>1995.0</th>\n",
       "      <th>1996.0</th>\n",
       "      <th>1997.0</th>\n",
       "      <th>1998.0</th>\n",
       "      <th>1999.0</th>\n",
       "      <th>2000.0</th>\n",
       "      <th>2001.0</th>\n",
       "      <th>2002.0</th>\n",
       "      <th>2003.0</th>\n",
       "      <th>2004.0</th>\n",
       "      <th>2005.0</th>\n",
       "      <th>2006.0</th>\n",
       "      <th>2007.0</th>\n",
       "      <th>2008.0</th>\n",
       "      <th>2009.0</th>\n",
       "      <th>2010.0</th>\n",
       "      <th>2011.0</th>\n",
       "      <th>2012.0</th>\n",
       "      <th>2013.0</th>\n",
       "      <th>2014.0</th>\n",
       "      <th>2015.0</th>\n",
       "      <th>2016.0</th>\n",
       "    </tr>\n",
       "    <tr>\n",
       "      <th>platform</th>\n",
       "      <th></th>\n",
       "      <th></th>\n",
       "      <th></th>\n",
       "      <th></th>\n",
       "      <th></th>\n",
       "      <th></th>\n",
       "      <th></th>\n",
       "      <th></th>\n",
       "      <th></th>\n",
       "      <th></th>\n",
       "      <th></th>\n",
       "      <th></th>\n",
       "      <th></th>\n",
       "      <th></th>\n",
       "      <th></th>\n",
       "      <th></th>\n",
       "      <th></th>\n",
       "      <th></th>\n",
       "      <th></th>\n",
       "      <th></th>\n",
       "      <th></th>\n",
       "      <th></th>\n",
       "    </tr>\n",
       "  </thead>\n",
       "  <tbody>\n",
       "    <tr>\n",
       "      <td>3DO</td>\n",
       "      <td>0.08</td>\n",
       "      <td></td>\n",
       "      <td></td>\n",
       "      <td></td>\n",
       "      <td></td>\n",
       "      <td></td>\n",
       "      <td></td>\n",
       "      <td></td>\n",
       "      <td></td>\n",
       "      <td></td>\n",
       "      <td></td>\n",
       "      <td></td>\n",
       "      <td></td>\n",
       "      <td></td>\n",
       "      <td></td>\n",
       "      <td></td>\n",
       "      <td></td>\n",
       "      <td></td>\n",
       "      <td></td>\n",
       "      <td></td>\n",
       "      <td></td>\n",
       "      <td></td>\n",
       "    </tr>\n",
       "    <tr>\n",
       "      <td>3DS</td>\n",
       "      <td></td>\n",
       "      <td></td>\n",
       "      <td></td>\n",
       "      <td></td>\n",
       "      <td></td>\n",
       "      <td></td>\n",
       "      <td></td>\n",
       "      <td></td>\n",
       "      <td></td>\n",
       "      <td></td>\n",
       "      <td></td>\n",
       "      <td></td>\n",
       "      <td></td>\n",
       "      <td></td>\n",
       "      <td></td>\n",
       "      <td></td>\n",
       "      <td>63.2</td>\n",
       "      <td>51.36</td>\n",
       "      <td>56.57</td>\n",
       "      <td>43.76</td>\n",
       "      <td>27.78</td>\n",
       "      <td>15.14</td>\n",
       "    </tr>\n",
       "    <tr>\n",
       "      <td>DC</td>\n",
       "      <td></td>\n",
       "      <td></td>\n",
       "      <td></td>\n",
       "      <td>3.38</td>\n",
       "      <td>5.16</td>\n",
       "      <td>5.99</td>\n",
       "      <td>1.07</td>\n",
       "      <td>0.29</td>\n",
       "      <td></td>\n",
       "      <td></td>\n",
       "      <td></td>\n",
       "      <td></td>\n",
       "      <td>0.02</td>\n",
       "      <td>0.04</td>\n",
       "      <td></td>\n",
       "      <td></td>\n",
       "      <td></td>\n",
       "      <td></td>\n",
       "      <td></td>\n",
       "      <td></td>\n",
       "      <td></td>\n",
       "      <td></td>\n",
       "    </tr>\n",
       "    <tr>\n",
       "      <td>DS</td>\n",
       "      <td></td>\n",
       "      <td></td>\n",
       "      <td></td>\n",
       "      <td></td>\n",
       "      <td></td>\n",
       "      <td></td>\n",
       "      <td></td>\n",
       "      <td></td>\n",
       "      <td></td>\n",
       "      <td>17.27</td>\n",
       "      <td>130.14</td>\n",
       "      <td>119.81</td>\n",
       "      <td>146.94</td>\n",
       "      <td>145.31</td>\n",
       "      <td>119.54</td>\n",
       "      <td>85.02</td>\n",
       "      <td>26.18</td>\n",
       "      <td>11.01</td>\n",
       "      <td>1.54</td>\n",
       "      <td></td>\n",
       "      <td></td>\n",
       "      <td></td>\n",
       "    </tr>\n",
       "    <tr>\n",
       "      <td>GB</td>\n",
       "      <td>3.6</td>\n",
       "      <td>36.03</td>\n",
       "      <td>6.37</td>\n",
       "      <td>26.9</td>\n",
       "      <td>38</td>\n",
       "      <td>19.76</td>\n",
       "      <td>9.24</td>\n",
       "      <td></td>\n",
       "      <td></td>\n",
       "      <td></td>\n",
       "      <td></td>\n",
       "      <td></td>\n",
       "      <td></td>\n",
       "      <td></td>\n",
       "      <td></td>\n",
       "      <td></td>\n",
       "      <td></td>\n",
       "      <td></td>\n",
       "      <td></td>\n",
       "      <td></td>\n",
       "      <td></td>\n",
       "      <td></td>\n",
       "    </tr>\n",
       "    <tr>\n",
       "      <td>GBA</td>\n",
       "      <td></td>\n",
       "      <td></td>\n",
       "      <td></td>\n",
       "      <td></td>\n",
       "      <td></td>\n",
       "      <td>0.07</td>\n",
       "      <td>61.53</td>\n",
       "      <td>74.16</td>\n",
       "      <td>56.67</td>\n",
       "      <td>77.91</td>\n",
       "      <td>33.86</td>\n",
       "      <td>5.28</td>\n",
       "      <td>3.4</td>\n",
       "      <td></td>\n",
       "      <td></td>\n",
       "      <td></td>\n",
       "      <td></td>\n",
       "      <td></td>\n",
       "      <td></td>\n",
       "      <td></td>\n",
       "      <td></td>\n",
       "      <td></td>\n",
       "    </tr>\n",
       "    <tr>\n",
       "      <td>GC</td>\n",
       "      <td></td>\n",
       "      <td></td>\n",
       "      <td></td>\n",
       "      <td></td>\n",
       "      <td></td>\n",
       "      <td></td>\n",
       "      <td>26.34</td>\n",
       "      <td>51.81</td>\n",
       "      <td>50.61</td>\n",
       "      <td>28.82</td>\n",
       "      <td>27.62</td>\n",
       "      <td>11.26</td>\n",
       "      <td>0.27</td>\n",
       "      <td></td>\n",
       "      <td></td>\n",
       "      <td></td>\n",
       "      <td></td>\n",
       "      <td></td>\n",
       "      <td></td>\n",
       "      <td></td>\n",
       "      <td></td>\n",
       "      <td></td>\n",
       "    </tr>\n",
       "    <tr>\n",
       "      <td>N64</td>\n",
       "      <td></td>\n",
       "      <td>34.1</td>\n",
       "      <td>39.5</td>\n",
       "      <td>49.24</td>\n",
       "      <td>57.87</td>\n",
       "      <td>33.97</td>\n",
       "      <td>3.25</td>\n",
       "      <td>0.08</td>\n",
       "      <td></td>\n",
       "      <td></td>\n",
       "      <td></td>\n",
       "      <td></td>\n",
       "      <td></td>\n",
       "      <td></td>\n",
       "      <td></td>\n",
       "      <td></td>\n",
       "      <td></td>\n",
       "      <td></td>\n",
       "      <td></td>\n",
       "      <td></td>\n",
       "      <td></td>\n",
       "      <td></td>\n",
       "    </tr>\n",
       "    <tr>\n",
       "      <td>NG</td>\n",
       "      <td>0.33</td>\n",
       "      <td>0.1</td>\n",
       "      <td></td>\n",
       "      <td></td>\n",
       "      <td></td>\n",
       "      <td></td>\n",
       "      <td></td>\n",
       "      <td></td>\n",
       "      <td></td>\n",
       "      <td></td>\n",
       "      <td></td>\n",
       "      <td></td>\n",
       "      <td></td>\n",
       "      <td></td>\n",
       "      <td></td>\n",
       "      <td></td>\n",
       "      <td></td>\n",
       "      <td></td>\n",
       "      <td></td>\n",
       "      <td></td>\n",
       "      <td></td>\n",
       "      <td></td>\n",
       "    </tr>\n",
       "    <tr>\n",
       "      <td>PC</td>\n",
       "      <td>4.22</td>\n",
       "      <td>10.58</td>\n",
       "      <td>11.27</td>\n",
       "      <td>3.26</td>\n",
       "      <td>4.74</td>\n",
       "      <td>4.66</td>\n",
       "      <td>5.47</td>\n",
       "      <td>8.57</td>\n",
       "      <td>8.84</td>\n",
       "      <td>10.39</td>\n",
       "      <td>4.37</td>\n",
       "      <td>2.85</td>\n",
       "      <td>9.28</td>\n",
       "      <td>12.42</td>\n",
       "      <td>16.91</td>\n",
       "      <td>24.28</td>\n",
       "      <td>35.03</td>\n",
       "      <td>23.22</td>\n",
       "      <td>12.38</td>\n",
       "      <td>13.28</td>\n",
       "      <td>8.52</td>\n",
       "      <td>5.25</td>\n",
       "    </tr>\n",
       "    <tr>\n",
       "      <td>PCFX</td>\n",
       "      <td></td>\n",
       "      <td>0.03</td>\n",
       "      <td></td>\n",
       "      <td></td>\n",
       "      <td></td>\n",
       "      <td></td>\n",
       "      <td></td>\n",
       "      <td></td>\n",
       "      <td></td>\n",
       "      <td></td>\n",
       "      <td></td>\n",
       "      <td></td>\n",
       "      <td></td>\n",
       "      <td></td>\n",
       "      <td></td>\n",
       "      <td></td>\n",
       "      <td></td>\n",
       "      <td></td>\n",
       "      <td></td>\n",
       "      <td></td>\n",
       "      <td></td>\n",
       "      <td></td>\n",
       "    </tr>\n",
       "    <tr>\n",
       "      <td>PS</td>\n",
       "      <td>35.96</td>\n",
       "      <td>94.7</td>\n",
       "      <td>136.17</td>\n",
       "      <td>169.49</td>\n",
       "      <td>144.53</td>\n",
       "      <td>96.37</td>\n",
       "      <td>35.59</td>\n",
       "      <td>6.67</td>\n",
       "      <td>2.07</td>\n",
       "      <td></td>\n",
       "      <td></td>\n",
       "      <td></td>\n",
       "      <td></td>\n",
       "      <td></td>\n",
       "      <td></td>\n",
       "      <td></td>\n",
       "      <td></td>\n",
       "      <td></td>\n",
       "      <td></td>\n",
       "      <td></td>\n",
       "      <td></td>\n",
       "      <td></td>\n",
       "    </tr>\n",
       "    <tr>\n",
       "      <td>PS2</td>\n",
       "      <td></td>\n",
       "      <td></td>\n",
       "      <td></td>\n",
       "      <td></td>\n",
       "      <td></td>\n",
       "      <td>39.17</td>\n",
       "      <td>166.43</td>\n",
       "      <td>205.38</td>\n",
       "      <td>184.31</td>\n",
       "      <td>211.81</td>\n",
       "      <td>160.66</td>\n",
       "      <td>103.42</td>\n",
       "      <td>75.99</td>\n",
       "      <td>53.9</td>\n",
       "      <td>26.4</td>\n",
       "      <td>5.64</td>\n",
       "      <td>0.45</td>\n",
       "      <td></td>\n",
       "      <td></td>\n",
       "      <td></td>\n",
       "      <td></td>\n",
       "      <td></td>\n",
       "    </tr>\n",
       "    <tr>\n",
       "      <td>PS3</td>\n",
       "      <td></td>\n",
       "      <td></td>\n",
       "      <td></td>\n",
       "      <td></td>\n",
       "      <td></td>\n",
       "      <td></td>\n",
       "      <td></td>\n",
       "      <td></td>\n",
       "      <td></td>\n",
       "      <td></td>\n",
       "      <td></td>\n",
       "      <td>20.96</td>\n",
       "      <td>73.19</td>\n",
       "      <td>118.52</td>\n",
       "      <td>130.93</td>\n",
       "      <td>142.17</td>\n",
       "      <td>156.78</td>\n",
       "      <td>107.36</td>\n",
       "      <td>113.25</td>\n",
       "      <td>47.76</td>\n",
       "      <td>16.82</td>\n",
       "      <td>3.6</td>\n",
       "    </tr>\n",
       "    <tr>\n",
       "      <td>PS4</td>\n",
       "      <td></td>\n",
       "      <td></td>\n",
       "      <td></td>\n",
       "      <td></td>\n",
       "      <td></td>\n",
       "      <td></td>\n",
       "      <td></td>\n",
       "      <td></td>\n",
       "      <td></td>\n",
       "      <td></td>\n",
       "      <td></td>\n",
       "      <td></td>\n",
       "      <td></td>\n",
       "      <td></td>\n",
       "      <td></td>\n",
       "      <td></td>\n",
       "      <td></td>\n",
       "      <td></td>\n",
       "      <td>25.99</td>\n",
       "      <td>100</td>\n",
       "      <td>118.9</td>\n",
       "      <td>69.25</td>\n",
       "    </tr>\n",
       "    <tr>\n",
       "      <td>PSP</td>\n",
       "      <td></td>\n",
       "      <td></td>\n",
       "      <td></td>\n",
       "      <td></td>\n",
       "      <td></td>\n",
       "      <td></td>\n",
       "      <td></td>\n",
       "      <td></td>\n",
       "      <td></td>\n",
       "      <td>7.06</td>\n",
       "      <td>43.84</td>\n",
       "      <td>55.32</td>\n",
       "      <td>46.93</td>\n",
       "      <td>34.55</td>\n",
       "      <td>37.78</td>\n",
       "      <td>35.04</td>\n",
       "      <td>17.82</td>\n",
       "      <td>7.69</td>\n",
       "      <td>3.14</td>\n",
       "      <td>0.24</td>\n",
       "      <td>0.12</td>\n",
       "      <td></td>\n",
       "    </tr>\n",
       "    <tr>\n",
       "      <td>PSV</td>\n",
       "      <td></td>\n",
       "      <td></td>\n",
       "      <td></td>\n",
       "      <td></td>\n",
       "      <td></td>\n",
       "      <td></td>\n",
       "      <td></td>\n",
       "      <td></td>\n",
       "      <td></td>\n",
       "      <td></td>\n",
       "      <td></td>\n",
       "      <td></td>\n",
       "      <td></td>\n",
       "      <td></td>\n",
       "      <td></td>\n",
       "      <td></td>\n",
       "      <td>4.63</td>\n",
       "      <td>16.19</td>\n",
       "      <td>10.59</td>\n",
       "      <td>11.9</td>\n",
       "      <td>6.25</td>\n",
       "      <td>4.25</td>\n",
       "    </tr>\n",
       "    <tr>\n",
       "      <td>SAT</td>\n",
       "      <td>11.57</td>\n",
       "      <td>7.69</td>\n",
       "      <td>6.77</td>\n",
       "      <td>3.82</td>\n",
       "      <td>0.09</td>\n",
       "      <td></td>\n",
       "      <td></td>\n",
       "      <td></td>\n",
       "      <td></td>\n",
       "      <td></td>\n",
       "      <td></td>\n",
       "      <td></td>\n",
       "      <td></td>\n",
       "      <td></td>\n",
       "      <td></td>\n",
       "      <td></td>\n",
       "      <td></td>\n",
       "      <td></td>\n",
       "      <td></td>\n",
       "      <td></td>\n",
       "      <td></td>\n",
       "      <td></td>\n",
       "    </tr>\n",
       "    <tr>\n",
       "      <td>SNES</td>\n",
       "      <td>32.2</td>\n",
       "      <td>15.92</td>\n",
       "      <td>0.99</td>\n",
       "      <td>0.22</td>\n",
       "      <td>0.26</td>\n",
       "      <td></td>\n",
       "      <td></td>\n",
       "      <td></td>\n",
       "      <td></td>\n",
       "      <td></td>\n",
       "      <td></td>\n",
       "      <td></td>\n",
       "      <td></td>\n",
       "      <td></td>\n",
       "      <td></td>\n",
       "      <td></td>\n",
       "      <td></td>\n",
       "      <td></td>\n",
       "      <td></td>\n",
       "      <td></td>\n",
       "      <td></td>\n",
       "      <td></td>\n",
       "    </tr>\n",
       "    <tr>\n",
       "      <td>TG16</td>\n",
       "      <td>0.16</td>\n",
       "      <td></td>\n",
       "      <td></td>\n",
       "      <td></td>\n",
       "      <td></td>\n",
       "      <td></td>\n",
       "      <td></td>\n",
       "      <td></td>\n",
       "      <td></td>\n",
       "      <td></td>\n",
       "      <td></td>\n",
       "      <td></td>\n",
       "      <td></td>\n",
       "      <td></td>\n",
       "      <td></td>\n",
       "      <td></td>\n",
       "      <td></td>\n",
       "      <td></td>\n",
       "      <td></td>\n",
       "      <td></td>\n",
       "      <td></td>\n",
       "      <td></td>\n",
       "    </tr>\n",
       "    <tr>\n",
       "      <td>WS</td>\n",
       "      <td></td>\n",
       "      <td></td>\n",
       "      <td></td>\n",
       "      <td></td>\n",
       "      <td>0.46</td>\n",
       "      <td>0.68</td>\n",
       "      <td>0.28</td>\n",
       "      <td></td>\n",
       "      <td></td>\n",
       "      <td></td>\n",
       "      <td></td>\n",
       "      <td></td>\n",
       "      <td></td>\n",
       "      <td></td>\n",
       "      <td></td>\n",
       "      <td></td>\n",
       "      <td></td>\n",
       "      <td></td>\n",
       "      <td></td>\n",
       "      <td></td>\n",
       "      <td></td>\n",
       "      <td></td>\n",
       "    </tr>\n",
       "    <tr>\n",
       "      <td>Wii</td>\n",
       "      <td></td>\n",
       "      <td></td>\n",
       "      <td></td>\n",
       "      <td></td>\n",
       "      <td></td>\n",
       "      <td></td>\n",
       "      <td></td>\n",
       "      <td></td>\n",
       "      <td></td>\n",
       "      <td></td>\n",
       "      <td></td>\n",
       "      <td>137.15</td>\n",
       "      <td>152.77</td>\n",
       "      <td>171.32</td>\n",
       "      <td>206.97</td>\n",
       "      <td>127.95</td>\n",
       "      <td>59.65</td>\n",
       "      <td>21.71</td>\n",
       "      <td>8.59</td>\n",
       "      <td>3.75</td>\n",
       "      <td>1.14</td>\n",
       "      <td>0.18</td>\n",
       "    </tr>\n",
       "    <tr>\n",
       "      <td>WiiU</td>\n",
       "      <td></td>\n",
       "      <td></td>\n",
       "      <td></td>\n",
       "      <td></td>\n",
       "      <td></td>\n",
       "      <td></td>\n",
       "      <td></td>\n",
       "      <td></td>\n",
       "      <td></td>\n",
       "      <td></td>\n",
       "      <td></td>\n",
       "      <td></td>\n",
       "      <td></td>\n",
       "      <td></td>\n",
       "      <td></td>\n",
       "      <td></td>\n",
       "      <td></td>\n",
       "      <td>17.56</td>\n",
       "      <td>21.65</td>\n",
       "      <td>22.03</td>\n",
       "      <td>16.35</td>\n",
       "      <td>4.6</td>\n",
       "    </tr>\n",
       "    <tr>\n",
       "      <td>X360</td>\n",
       "      <td></td>\n",
       "      <td></td>\n",
       "      <td></td>\n",
       "      <td></td>\n",
       "      <td></td>\n",
       "      <td></td>\n",
       "      <td></td>\n",
       "      <td></td>\n",
       "      <td></td>\n",
       "      <td></td>\n",
       "      <td>8.25</td>\n",
       "      <td>51.62</td>\n",
       "      <td>95.41</td>\n",
       "      <td>135.26</td>\n",
       "      <td>120.29</td>\n",
       "      <td>170.03</td>\n",
       "      <td>143.84</td>\n",
       "      <td>99.74</td>\n",
       "      <td>88.58</td>\n",
       "      <td>34.74</td>\n",
       "      <td>11.96</td>\n",
       "      <td>1.52</td>\n",
       "    </tr>\n",
       "    <tr>\n",
       "      <td>XB</td>\n",
       "      <td></td>\n",
       "      <td></td>\n",
       "      <td></td>\n",
       "      <td></td>\n",
       "      <td></td>\n",
       "      <td>0.99</td>\n",
       "      <td>22.26</td>\n",
       "      <td>48.01</td>\n",
       "      <td>55.04</td>\n",
       "      <td>65.42</td>\n",
       "      <td>49.08</td>\n",
       "      <td>10.04</td>\n",
       "      <td>0.55</td>\n",
       "      <td>0.18</td>\n",
       "      <td></td>\n",
       "      <td></td>\n",
       "      <td></td>\n",
       "      <td></td>\n",
       "      <td></td>\n",
       "      <td></td>\n",
       "      <td></td>\n",
       "      <td></td>\n",
       "    </tr>\n",
       "    <tr>\n",
       "      <td>XOne</td>\n",
       "      <td></td>\n",
       "      <td></td>\n",
       "      <td></td>\n",
       "      <td></td>\n",
       "      <td></td>\n",
       "      <td></td>\n",
       "      <td></td>\n",
       "      <td></td>\n",
       "      <td></td>\n",
       "      <td></td>\n",
       "      <td></td>\n",
       "      <td></td>\n",
       "      <td></td>\n",
       "      <td></td>\n",
       "      <td></td>\n",
       "      <td></td>\n",
       "      <td></td>\n",
       "      <td></td>\n",
       "      <td>18.96</td>\n",
       "      <td>54.07</td>\n",
       "      <td>60.14</td>\n",
       "      <td>26.15</td>\n",
       "    </tr>\n",
       "  </tbody>\n",
       "</table>\n",
       "</div>"
      ],
      "text/plain": [
       "year_of_release 1995.0 1996.0  1997.0  1998.0  1999.0 2000.0  2001.0  2002.0  \\\n",
       "platform                                                                       \n",
       "3DO               0.08                                                         \n",
       "3DS                                                                            \n",
       "DC                                       3.38    5.16   5.99    1.07    0.29   \n",
       "DS                                                                             \n",
       "GB                 3.6  36.03    6.37    26.9      38  19.76    9.24           \n",
       "GBA                                                     0.07   61.53   74.16   \n",
       "GC                                                             26.34   51.81   \n",
       "N64                      34.1    39.5   49.24   57.87  33.97    3.25    0.08   \n",
       "NG                0.33    0.1                                                  \n",
       "PC                4.22  10.58   11.27    3.26    4.74   4.66    5.47    8.57   \n",
       "PCFX                     0.03                                                  \n",
       "PS               35.96   94.7  136.17  169.49  144.53  96.37   35.59    6.67   \n",
       "PS2                                                    39.17  166.43  205.38   \n",
       "PS3                                                                            \n",
       "PS4                                                                            \n",
       "PSP                                                                            \n",
       "PSV                                                                            \n",
       "SAT              11.57   7.69    6.77    3.82    0.09                          \n",
       "SNES              32.2  15.92    0.99    0.22    0.26                          \n",
       "TG16              0.16                                                         \n",
       "WS                                               0.46   0.68    0.28           \n",
       "Wii                                                                            \n",
       "WiiU                                                                           \n",
       "X360                                                                           \n",
       "XB                                                      0.99   22.26   48.01   \n",
       "XOne                                                                           \n",
       "\n",
       "year_of_release  2003.0  2004.0  2005.0  2006.0  2007.0  2008.0  2009.0  \\\n",
       "platform                                                                  \n",
       "3DO                                                                       \n",
       "3DS                                                                       \n",
       "DC                                                 0.02    0.04           \n",
       "DS                        17.27  130.14  119.81  146.94  145.31  119.54   \n",
       "GB                                                                        \n",
       "GBA               56.67   77.91   33.86    5.28     3.4                   \n",
       "GC                50.61   28.82   27.62   11.26    0.27                   \n",
       "N64                                                                       \n",
       "NG                                                                        \n",
       "PC                 8.84   10.39    4.37    2.85    9.28   12.42   16.91   \n",
       "PCFX                                                                      \n",
       "PS                 2.07                                                   \n",
       "PS2              184.31  211.81  160.66  103.42   75.99    53.9    26.4   \n",
       "PS3                                       20.96   73.19  118.52  130.93   \n",
       "PS4                                                                       \n",
       "PSP                        7.06   43.84   55.32   46.93   34.55   37.78   \n",
       "PSV                                                                       \n",
       "SAT                                                                       \n",
       "SNES                                                                      \n",
       "TG16                                                                      \n",
       "WS                                                                        \n",
       "Wii                                      137.15  152.77  171.32  206.97   \n",
       "WiiU                                                                      \n",
       "X360                               8.25   51.62   95.41  135.26  120.29   \n",
       "XB                55.04   65.42   49.08   10.04    0.55    0.18           \n",
       "XOne                                                                      \n",
       "\n",
       "year_of_release  2010.0  2011.0  2012.0  2013.0 2014.0 2015.0 2016.0  \n",
       "platform                                                              \n",
       "3DO                                                                   \n",
       "3DS                        63.2   51.36   56.57  43.76  27.78  15.14  \n",
       "DC                                                                    \n",
       "DS                85.02   26.18   11.01    1.54                       \n",
       "GB                                                                    \n",
       "GBA                                                                   \n",
       "GC                                                                    \n",
       "N64                                                                   \n",
       "NG                                                                    \n",
       "PC                24.28   35.03   23.22   12.38  13.28   8.52   5.25  \n",
       "PCFX                                                                  \n",
       "PS                                                                    \n",
       "PS2                5.64    0.45                                       \n",
       "PS3              142.17  156.78  107.36  113.25  47.76  16.82    3.6  \n",
       "PS4                                       25.99    100  118.9  69.25  \n",
       "PSP               35.04   17.82    7.69    3.14   0.24   0.12         \n",
       "PSV                        4.63   16.19   10.59   11.9   6.25   4.25  \n",
       "SAT                                                                   \n",
       "SNES                                                                  \n",
       "TG16                                                                  \n",
       "WS                                                                    \n",
       "Wii              127.95   59.65   21.71    8.59   3.75   1.14   0.18  \n",
       "WiiU                              17.56   21.65  22.03  16.35    4.6  \n",
       "X360             170.03  143.84   99.74   88.58  34.74  11.96   1.52  \n",
       "XB                                                                    \n",
       "XOne                                      18.96  54.07  60.14  26.15  "
      ]
     },
     "execution_count": 18,
     "metadata": {},
     "output_type": "execute_result"
    }
   ],
   "source": [
    "sales_per_platform = df_filtered.pivot_table(\n",
    "    index='platform', \n",
    "    columns='year_of_release', \n",
    "    values='total_sales', \n",
    "    aggfunc='sum')\n",
    "\n",
    "sales_per_platform.fillna('')"
   ]
  },
  {
   "cell_type": "markdown",
   "metadata": {},
   "source": [
    "Определим платформы с наибольшими суммарными продажами."
   ]
  },
  {
   "cell_type": "code",
   "execution_count": 19,
   "metadata": {},
   "outputs": [
    {
     "name": "stdout",
     "output_type": "stream",
     "text": [
      "Топ-10 платформ с наибольшими суммарными продажами.\n",
      "platform\n",
      "PS2     1233.56\n",
      "X360     961.24\n",
      "PS3      931.34\n",
      "Wii      891.18\n",
      "DS       802.76\n",
      "PS       721.55\n",
      "PS4      314.14\n",
      "GBA      312.88\n",
      "PSP      289.53\n",
      "3DS      257.81\n",
      "Name: total_sales, dtype: float64\n"
     ]
    }
   ],
   "source": [
    "top_10_platforms = df_filtered.groupby('platform')['total_sales'].sum().sort_values(ascending=False).head(10)\n",
    "print('Топ-10 платформ с наибольшими суммарными продажами.')\n",
    "print(top_10_platforms)"
   ]
  },
  {
   "cell_type": "code",
   "execution_count": 20,
   "metadata": {},
   "outputs": [
    {
     "data": {
      "image/png": "[encoded data removed]",
      "text/plain": [
       "<Figure size 1224x432 with 1 Axes>"
      ]
     },
     "metadata": {
      "needs_background": "light"
     },
     "output_type": "display_data"
    }
   ],
   "source": [
    "top_10_platforms_names = [i for i in top_10_platforms.index]\n",
    "\n",
    "sales_top_10_platform = (df_filtered.query('platform == @top_10_platforms_names')\n",
    "                           .pivot_table(index='year_of_release', columns='platform', values='total_sales', aggfunc='sum')\n",
    "                           .plot(style='o-', grid= True, legend=True, figsize=(17,6))\n",
    "                           .set(xlabel='Год', ylabel='Продажи, $ млн.', title='Продажи платформ по годам'))\n",
    "plt.show()"
   ]
  },
  {
   "cell_type": "markdown",
   "metadata": {},
   "source": [
    "Из графика можно сделать вывод, что каждая платформа находится на рынке примерно 10 лет.\n",
    "\n",
    "Посмотрим более точно сколько лет каждая платформа продержалась на рынке."
   ]
  },
  {
   "cell_type": "code",
   "execution_count": 21,
   "metadata": {},
   "outputs": [
    {
     "data": {
      "text/html": [
       "<div>\n",
       "<style scoped>\n",
       "    .dataframe tbody tr th:only-of-type {\n",
       "        vertical-align: middle;\n",
       "    }\n",
       "\n",
       "    .dataframe tbody tr th {\n",
       "        vertical-align: top;\n",
       "    }\n",
       "\n",
       "    .dataframe thead th {\n",
       "        text-align: right;\n",
       "    }\n",
       "</style>\n",
       "<table border=\"1\" class=\"dataframe\">\n",
       "  <thead>\n",
       "    <tr style=\"text-align: right;\">\n",
       "      <th></th>\n",
       "      <th>year_of_release</th>\n",
       "    </tr>\n",
       "    <tr>\n",
       "      <th>platform</th>\n",
       "      <th></th>\n",
       "    </tr>\n",
       "  </thead>\n",
       "  <tbody>\n",
       "    <tr>\n",
       "      <td>3DS</td>\n",
       "      <td>6</td>\n",
       "    </tr>\n",
       "    <tr>\n",
       "      <td>DS</td>\n",
       "      <td>11</td>\n",
       "    </tr>\n",
       "    <tr>\n",
       "      <td>GBA</td>\n",
       "      <td>8</td>\n",
       "    </tr>\n",
       "    <tr>\n",
       "      <td>PS</td>\n",
       "      <td>10</td>\n",
       "    </tr>\n",
       "    <tr>\n",
       "      <td>PS2</td>\n",
       "      <td>12</td>\n",
       "    </tr>\n",
       "    <tr>\n",
       "      <td>PS3</td>\n",
       "      <td>11</td>\n",
       "    </tr>\n",
       "    <tr>\n",
       "      <td>PS4</td>\n",
       "      <td>4</td>\n",
       "    </tr>\n",
       "    <tr>\n",
       "      <td>PSP</td>\n",
       "      <td>12</td>\n",
       "    </tr>\n",
       "    <tr>\n",
       "      <td>Wii</td>\n",
       "      <td>11</td>\n",
       "    </tr>\n",
       "    <tr>\n",
       "      <td>X360</td>\n",
       "      <td>12</td>\n",
       "    </tr>\n",
       "  </tbody>\n",
       "</table>\n",
       "</div>"
      ],
      "text/plain": [
       "          year_of_release\n",
       "platform                 \n",
       "3DS                     6\n",
       "DS                     11\n",
       "GBA                     8\n",
       "PS                     10\n",
       "PS2                    12\n",
       "PS3                    11\n",
       "PS4                     4\n",
       "PSP                    12\n",
       "Wii                    11\n",
       "X360                   12"
      ]
     },
     "metadata": {},
     "output_type": "display_data"
    },
    {
     "name": "stdout",
     "output_type": "stream",
     "text": [
      "Mean year_of_release    9.7\n",
      "dtype: float64\n",
      "Median year_of_release    11.0\n",
      "dtype: float64\n"
     ]
    }
   ],
   "source": [
    "years_for_platform = (df.query('platform == @top_10_platforms_names')                        \n",
    "                       .pivot_table(index=['platform','year_of_release'], values='total_sales', aggfunc='sum'))\n",
    "years_for_platform.reset_index(inplace=True)\n",
    "years_for_platform = years_for_platform.pivot_table(index='platform', values='year_of_release', aggfunc='count')\n",
    "\n",
    "display(years_for_platform)\n",
    "print('Mean', years_for_platform.mean())\n",
    "print('Median', years_for_platform.median())"
   ]
  },
  {
   "cell_type": "markdown",
   "metadata": {},
   "source": [
    "Теория подтвердилась, игровые платформы живут 10 лет."
   ]
  },
  {
   "cell_type": "markdown",
   "metadata": {},
   "source": [
    "### Возьмите данные за соответствующий актуальный период. Основной фактор — эти данные помогут построить прогноз на 2017 год. Какие платформы лидируют по продажам, растут или падают? Выберите несколько потенциально прибыльных платформ."
   ]
  },
  {
   "cell_type": "markdown",
   "metadata": {},
   "source": [
    "̶Построим график продаж по каждой платформе за 10 лет, чтобы отследить какие платформы сколько живут и выделить из них актуальные."
   ]
  },
  {
   "cell_type": "code",
   "execution_count": 22,
   "metadata": {},
   "outputs": [
    {
     "data": {
      "image/png": "[encoded data removed]",
      "text/plain": [
       "<Figure size 1080x720 with 1 Axes>"
      ]
     },
     "metadata": {
      "needs_background": "light"
     },
     "output_type": "display_data"
    }
   ],
   "source": [
    "(df.query('year_of_release >= 2006')\n",
    "   .pivot_table(index='year_of_release', columns='platform', values='total_sales', aggfunc='sum')\n",
    "   .plot(style='o-', grid= True, legend=True, figsize=(15,10))\n",
    "   .set(xlabel='Год', ylabel='Продажи, $ млн.', title='Продажи платформ по годам'));\n",
    "plt.show()"
   ]
  },
  {
   "cell_type": "markdown",
   "metadata": {},
   "source": [
    "Данные за 2016 год не полные, поэтому создаётся ощущение, что все платформы потерпели резкий спад после 2015 года. На восходящем тренде в 2015 находятся только PS4 и XOne."
   ]
  },
  {
   "cell_type": "markdown",
   "metadata": {},
   "source": [
    "Сделаем срез по родажам за 2015 год, т. к. за 2016 данные неполные."
   ]
  },
  {
   "cell_type": "code",
   "execution_count": 23,
   "metadata": {},
   "outputs": [
    {
     "data": {
      "text/html": [
       "<div>\n",
       "<style scoped>\n",
       "    .dataframe tbody tr th:only-of-type {\n",
       "        vertical-align: middle;\n",
       "    }\n",
       "\n",
       "    .dataframe tbody tr th {\n",
       "        vertical-align: top;\n",
       "    }\n",
       "\n",
       "    .dataframe thead th {\n",
       "        text-align: right;\n",
       "    }\n",
       "</style>\n",
       "<table border=\"1\" class=\"dataframe\">\n",
       "  <thead>\n",
       "    <tr style=\"text-align: right;\">\n",
       "      <th></th>\n",
       "      <th>total_sales</th>\n",
       "    </tr>\n",
       "    <tr>\n",
       "      <th>platform</th>\n",
       "      <th></th>\n",
       "    </tr>\n",
       "  </thead>\n",
       "  <tbody>\n",
       "    <tr>\n",
       "      <td>PS4</td>\n",
       "      <td>118.90</td>\n",
       "    </tr>\n",
       "    <tr>\n",
       "      <td>XOne</td>\n",
       "      <td>60.14</td>\n",
       "    </tr>\n",
       "    <tr>\n",
       "      <td>3DS</td>\n",
       "      <td>27.78</td>\n",
       "    </tr>\n",
       "    <tr>\n",
       "      <td>PS3</td>\n",
       "      <td>16.82</td>\n",
       "    </tr>\n",
       "    <tr>\n",
       "      <td>WiiU</td>\n",
       "      <td>16.35</td>\n",
       "    </tr>\n",
       "    <tr>\n",
       "      <td>X360</td>\n",
       "      <td>11.96</td>\n",
       "    </tr>\n",
       "    <tr>\n",
       "      <td>PC</td>\n",
       "      <td>8.52</td>\n",
       "    </tr>\n",
       "    <tr>\n",
       "      <td>PSV</td>\n",
       "      <td>6.25</td>\n",
       "    </tr>\n",
       "    <tr>\n",
       "      <td>Wii</td>\n",
       "      <td>1.14</td>\n",
       "    </tr>\n",
       "    <tr>\n",
       "      <td>PSP</td>\n",
       "      <td>0.12</td>\n",
       "    </tr>\n",
       "  </tbody>\n",
       "</table>\n",
       "</div>"
      ],
      "text/plain": [
       "          total_sales\n",
       "platform             \n",
       "PS4            118.90\n",
       "XOne            60.14\n",
       "3DS             27.78\n",
       "PS3             16.82\n",
       "WiiU            16.35\n",
       "X360            11.96\n",
       "PC               8.52\n",
       "PSV              6.25\n",
       "Wii              1.14\n",
       "PSP              0.12"
      ]
     },
     "execution_count": 23,
     "metadata": {},
     "output_type": "execute_result"
    }
   ],
   "source": [
    "sales_in_2015 = (df.query('year_of_release == 2015')\n",
    "                   .pivot_table(index='platform', values='total_sales', aggfunc='sum')\n",
    "                   .sort_values(by='total_sales', ascending=False))\n",
    "sales_in_2015"
   ]
  },
  {
   "cell_type": "markdown",
   "metadata": {},
   "source": [
    "Зная, что платформы живут 10 лет можно сделать вывод, что если платформа живёт уже 5-6 лет, то её можно считать неактуальной, в таком случае потенциально прибыльными будут PS4 и XOne. Исключением из правила является PC, данная платформа живёт гораздо больше 10 лет и останется актуальной в будущем."
   ]
  },
  {
   "cell_type": "markdown",
   "metadata": {},
   "source": [
    "### Постройте график «ящик с усами» по глобальным продажам игр в разбивке по платформам. Опишите результат."
   ]
  },
  {
   "cell_type": "markdown",
   "metadata": {},
   "source": [
    "Создадим сводную таблицу по продажам каждой игры с разбивкой по платформам и посчитаем общие продажи по каждой игре."
   ]
  },
  {
   "cell_type": "code",
   "execution_count": 24,
   "metadata": {},
   "outputs": [
    {
     "data": {
      "text/html": [
       "<div>\n",
       "<style scoped>\n",
       "    .dataframe tbody tr th:only-of-type {\n",
       "        vertical-align: middle;\n",
       "    }\n",
       "\n",
       "    .dataframe tbody tr th {\n",
       "        vertical-align: top;\n",
       "    }\n",
       "\n",
       "    .dataframe thead th {\n",
       "        text-align: right;\n",
       "    }\n",
       "</style>\n",
       "<table border=\"1\" class=\"dataframe\">\n",
       "  <thead>\n",
       "    <tr style=\"text-align: right;\">\n",
       "      <th>platform</th>\n",
       "      <th>3DS</th>\n",
       "      <th>PS3</th>\n",
       "      <th>PS4</th>\n",
       "      <th>WiiU</th>\n",
       "      <th>XOne</th>\n",
       "      <th>game_platforms_total</th>\n",
       "    </tr>\n",
       "    <tr>\n",
       "      <th>name</th>\n",
       "      <th></th>\n",
       "      <th></th>\n",
       "      <th></th>\n",
       "      <th></th>\n",
       "      <th></th>\n",
       "      <th></th>\n",
       "    </tr>\n",
       "  </thead>\n",
       "  <tbody>\n",
       "    <tr>\n",
       "      <td>Grand Theft Auto V</td>\n",
       "      <td>NaN</td>\n",
       "      <td>21.05</td>\n",
       "      <td>12.62</td>\n",
       "      <td>NaN</td>\n",
       "      <td>5.47</td>\n",
       "      <td>39.14</td>\n",
       "    </tr>\n",
       "    <tr>\n",
       "      <td>Call of Duty: Black Ops 3</td>\n",
       "      <td>NaN</td>\n",
       "      <td>1.69</td>\n",
       "      <td>14.63</td>\n",
       "      <td>NaN</td>\n",
       "      <td>7.39</td>\n",
       "      <td>23.71</td>\n",
       "    </tr>\n",
       "    <tr>\n",
       "      <td>Call of Duty: Advanced Warfare</td>\n",
       "      <td>NaN</td>\n",
       "      <td>4.36</td>\n",
       "      <td>7.66</td>\n",
       "      <td>NaN</td>\n",
       "      <td>5.26</td>\n",
       "      <td>17.28</td>\n",
       "    </tr>\n",
       "    <tr>\n",
       "      <td>Call of Duty: Ghosts</td>\n",
       "      <td>NaN</td>\n",
       "      <td>9.36</td>\n",
       "      <td>3.83</td>\n",
       "      <td>0.35</td>\n",
       "      <td>2.92</td>\n",
       "      <td>16.46</td>\n",
       "    </tr>\n",
       "    <tr>\n",
       "      <td>Pokemon X/Pokemon Y</td>\n",
       "      <td>14.60</td>\n",
       "      <td>NaN</td>\n",
       "      <td>NaN</td>\n",
       "      <td>NaN</td>\n",
       "      <td>NaN</td>\n",
       "      <td>14.60</td>\n",
       "    </tr>\n",
       "    <tr>\n",
       "      <td>...</td>\n",
       "      <td>...</td>\n",
       "      <td>...</td>\n",
       "      <td>...</td>\n",
       "      <td>...</td>\n",
       "      <td>...</td>\n",
       "      <td>...</td>\n",
       "    </tr>\n",
       "    <tr>\n",
       "      <td>Crows: Burning Edge</td>\n",
       "      <td>NaN</td>\n",
       "      <td>NaN</td>\n",
       "      <td>0.01</td>\n",
       "      <td>NaN</td>\n",
       "      <td>NaN</td>\n",
       "      <td>0.01</td>\n",
       "    </tr>\n",
       "    <tr>\n",
       "      <td>Mario &amp; Luigi: Paper Jam &amp; Mario Kart 7 Double Pack</td>\n",
       "      <td>0.01</td>\n",
       "      <td>NaN</td>\n",
       "      <td>NaN</td>\n",
       "      <td>NaN</td>\n",
       "      <td>NaN</td>\n",
       "      <td>0.01</td>\n",
       "    </tr>\n",
       "    <tr>\n",
       "      <td>Strider (2014)</td>\n",
       "      <td>NaN</td>\n",
       "      <td>0.01</td>\n",
       "      <td>NaN</td>\n",
       "      <td>NaN</td>\n",
       "      <td>NaN</td>\n",
       "      <td>0.01</td>\n",
       "    </tr>\n",
       "    <tr>\n",
       "      <td>Legends of Oz: Dorothy's Return</td>\n",
       "      <td>0.01</td>\n",
       "      <td>NaN</td>\n",
       "      <td>NaN</td>\n",
       "      <td>NaN</td>\n",
       "      <td>NaN</td>\n",
       "      <td>0.01</td>\n",
       "    </tr>\n",
       "    <tr>\n",
       "      <td>River City Ransom SP</td>\n",
       "      <td>0.01</td>\n",
       "      <td>NaN</td>\n",
       "      <td>NaN</td>\n",
       "      <td>NaN</td>\n",
       "      <td>NaN</td>\n",
       "      <td>0.01</td>\n",
       "    </tr>\n",
       "  </tbody>\n",
       "</table>\n",
       "<p>1149 rows × 6 columns</p>\n",
       "</div>"
      ],
      "text/plain": [
       "platform                                              3DS    PS3    PS4  WiiU  \\\n",
       "name                                                                            \n",
       "Grand Theft Auto V                                    NaN  21.05  12.62   NaN   \n",
       "Call of Duty: Black Ops 3                             NaN   1.69  14.63   NaN   \n",
       "Call of Duty: Advanced Warfare                        NaN   4.36   7.66   NaN   \n",
       "Call of Duty: Ghosts                                  NaN   9.36   3.83  0.35   \n",
       "Pokemon X/Pokemon Y                                 14.60    NaN    NaN   NaN   \n",
       "...                                                   ...    ...    ...   ...   \n",
       "Crows: Burning Edge                                   NaN    NaN   0.01   NaN   \n",
       "Mario & Luigi: Paper Jam & Mario Kart 7 Double ...   0.01    NaN    NaN   NaN   \n",
       "Strider (2014)                                        NaN   0.01    NaN   NaN   \n",
       "Legends of Oz: Dorothy's Return                      0.01    NaN    NaN   NaN   \n",
       "River City Ransom SP                                 0.01    NaN    NaN   NaN   \n",
       "\n",
       "platform                                            XOne  game_platforms_total  \n",
       "name                                                                            \n",
       "Grand Theft Auto V                                  5.47                 39.14  \n",
       "Call of Duty: Black Ops 3                           7.39                 23.71  \n",
       "Call of Duty: Advanced Warfare                      5.26                 17.28  \n",
       "Call of Duty: Ghosts                                2.92                 16.46  \n",
       "Pokemon X/Pokemon Y                                  NaN                 14.60  \n",
       "...                                                  ...                   ...  \n",
       "Crows: Burning Edge                                  NaN                  0.01  \n",
       "Mario & Luigi: Paper Jam & Mario Kart 7 Double ...   NaN                  0.01  \n",
       "Strider (2014)                                       NaN                  0.01  \n",
       "Legends of Oz: Dorothy's Return                      NaN                  0.01  \n",
       "River City Ransom SP                                 NaN                  0.01  \n",
       "\n",
       "[1149 rows x 6 columns]"
      ]
     },
     "execution_count": 24,
     "metadata": {},
     "output_type": "execute_result"
    }
   ],
   "source": [
    "actual_platform_list = [i for i in sales_in_2015[:5].index]\n",
    "actual_platform_sales = (df.query('year_of_release >= 2012 and platform == @actual_platform_list')\n",
    "                     .pivot_table(index='name', columns='platform', values='total_sales', aggfunc='sum'))\n",
    "\n",
    "actual_platform_sales['game_platforms_total'] = actual_platform_sales.sum(axis=1)\n",
    "actual_platform_sales.sort_values(by='game_platforms_total', ascending=False)"
   ]
  },
  {
   "cell_type": "markdown",
   "metadata": {},
   "source": [
    "Построим диаграмму размаха для продаж каждой игры."
   ]
  },
  {
   "cell_type": "code",
   "execution_count": 25,
   "metadata": {},
   "outputs": [
    {
     "data": {
      "image/png": "[encoded data removed]",
      "text/plain": [
       "<Figure size 936x720 with 1 Axes>"
      ]
     },
     "metadata": {
      "needs_background": "light"
     },
     "output_type": "display_data"
    }
   ],
   "source": [
    "plt.figure(figsize=(13,10))\n",
    "sns.boxplot(data=actual_platform_sales, orient='h').set_xlim(0,2);\n",
    "plt.show()"
   ]
  },
  {
   "cell_type": "markdown",
   "metadata": {},
   "source": [
    "<div class=\"alert alert-success\">\n",
    "<h2> Комментарий ревьюера (все отлично)</h2>\n",
    "    \n",
    "Здорово визуализируешь данные, молодец, что уже практикуешь методы библиотеки seaborn. \n",
    "</div>"
   ]
  },
  {
   "cell_type": "markdown",
   "metadata": {},
   "source": [
    "Самые дорогие игры для платформ PS4, XOne и PS3.\n",
    "\n",
    "Посмотрим более точно характеристики продаж."
   ]
  },
  {
   "cell_type": "code",
   "execution_count": 26,
   "metadata": {},
   "outputs": [
    {
     "data": {
      "text/html": [
       "<div>\n",
       "<style scoped>\n",
       "    .dataframe tbody tr th:only-of-type {\n",
       "        vertical-align: middle;\n",
       "    }\n",
       "\n",
       "    .dataframe tbody tr th {\n",
       "        vertical-align: top;\n",
       "    }\n",
       "\n",
       "    .dataframe thead th {\n",
       "        text-align: right;\n",
       "    }\n",
       "</style>\n",
       "<table border=\"1\" class=\"dataframe\">\n",
       "  <thead>\n",
       "    <tr style=\"text-align: right;\">\n",
       "      <th>platform</th>\n",
       "      <th>3DS</th>\n",
       "      <th>PS3</th>\n",
       "      <th>PS4</th>\n",
       "      <th>WiiU</th>\n",
       "      <th>XOne</th>\n",
       "      <th>game_platforms_total</th>\n",
       "    </tr>\n",
       "  </thead>\n",
       "  <tbody>\n",
       "    <tr>\n",
       "      <td>count</td>\n",
       "      <td>396.000000</td>\n",
       "      <td>492.000000</td>\n",
       "      <td>392.000000</td>\n",
       "      <td>147.000000</td>\n",
       "      <td>247.000000</td>\n",
       "      <td>1149.000000</td>\n",
       "    </tr>\n",
       "    <tr>\n",
       "      <td>mean</td>\n",
       "      <td>0.491439</td>\n",
       "      <td>0.586972</td>\n",
       "      <td>0.801378</td>\n",
       "      <td>0.559116</td>\n",
       "      <td>0.645020</td>\n",
       "      <td>0.904308</td>\n",
       "    </tr>\n",
       "    <tr>\n",
       "      <td>std</td>\n",
       "      <td>1.387161</td>\n",
       "      <td>1.464141</td>\n",
       "      <td>1.609456</td>\n",
       "      <td>1.058836</td>\n",
       "      <td>1.036139</td>\n",
       "      <td>2.299648</td>\n",
       "    </tr>\n",
       "    <tr>\n",
       "      <td>min</td>\n",
       "      <td>0.010000</td>\n",
       "      <td>0.010000</td>\n",
       "      <td>0.010000</td>\n",
       "      <td>0.010000</td>\n",
       "      <td>0.010000</td>\n",
       "      <td>0.010000</td>\n",
       "    </tr>\n",
       "    <tr>\n",
       "      <td>25%</td>\n",
       "      <td>0.040000</td>\n",
       "      <td>0.050000</td>\n",
       "      <td>0.060000</td>\n",
       "      <td>0.080000</td>\n",
       "      <td>0.060000</td>\n",
       "      <td>0.060000</td>\n",
       "    </tr>\n",
       "    <tr>\n",
       "      <td>50%</td>\n",
       "      <td>0.110000</td>\n",
       "      <td>0.200000</td>\n",
       "      <td>0.200000</td>\n",
       "      <td>0.220000</td>\n",
       "      <td>0.220000</td>\n",
       "      <td>0.190000</td>\n",
       "    </tr>\n",
       "    <tr>\n",
       "      <td>75%</td>\n",
       "      <td>0.312500</td>\n",
       "      <td>0.610000</td>\n",
       "      <td>0.730000</td>\n",
       "      <td>0.525000</td>\n",
       "      <td>0.685000</td>\n",
       "      <td>0.780000</td>\n",
       "    </tr>\n",
       "    <tr>\n",
       "      <td>max</td>\n",
       "      <td>14.600000</td>\n",
       "      <td>21.050000</td>\n",
       "      <td>14.630000</td>\n",
       "      <td>7.090000</td>\n",
       "      <td>7.390000</td>\n",
       "      <td>39.140000</td>\n",
       "    </tr>\n",
       "  </tbody>\n",
       "</table>\n",
       "</div>"
      ],
      "text/plain": [
       "platform         3DS         PS3         PS4        WiiU        XOne  \\\n",
       "count     396.000000  492.000000  392.000000  147.000000  247.000000   \n",
       "mean        0.491439    0.586972    0.801378    0.559116    0.645020   \n",
       "std         1.387161    1.464141    1.609456    1.058836    1.036139   \n",
       "min         0.010000    0.010000    0.010000    0.010000    0.010000   \n",
       "25%         0.040000    0.050000    0.060000    0.080000    0.060000   \n",
       "50%         0.110000    0.200000    0.200000    0.220000    0.220000   \n",
       "75%         0.312500    0.610000    0.730000    0.525000    0.685000   \n",
       "max        14.600000   21.050000   14.630000    7.090000    7.390000   \n",
       "\n",
       "platform  game_platforms_total  \n",
       "count              1149.000000  \n",
       "mean                  0.904308  \n",
       "std                   2.299648  \n",
       "min                   0.010000  \n",
       "25%                   0.060000  \n",
       "50%                   0.190000  \n",
       "75%                   0.780000  \n",
       "max                  39.140000  "
      ]
     },
     "execution_count": 26,
     "metadata": {},
     "output_type": "execute_result"
    }
   ],
   "source": [
    "actual_platform_sales.describe()"
   ]
  },
  {
   "cell_type": "markdown",
   "metadata": {},
   "source": [
    "Больше всего игр продали 3DS, PS3 и PS4, игры на эти платформы также самые дорогие. Самые дешёвые игры на WiiU и XOne."
   ]
  },
  {
   "cell_type": "markdown",
   "metadata": {},
   "source": [
    "### Посмотрите, как влияют на продажи внутри одной популярной платформы отзывы пользователей и критиков. Постройте диаграмму рассеяния и посчитайте корреляцию между отзывами и продажами. Сформулируйте выводы. Соотнесите выводы с продажами игр на других платформах."
   ]
  },
  {
   "cell_type": "markdown",
   "metadata": {},
   "source": [
    "Исходя из прошлых пунктов, самой популярной платформой на 2015 год является PS4. Сделаем срез по этой платформе, посчитаем корреляцию между отзывами и продажами, остроим график рассеяния."
   ]
  },
  {
   "cell_type": "code",
   "execution_count": 27,
   "metadata": {
    "scrolled": true
   },
   "outputs": [
    {
     "data": {
      "image/png": "[encoded data removed]",
      "text/plain": [
       "<Figure size 1200x400 with 2 Axes>"
      ]
     },
     "metadata": {
      "needs_background": "light"
     },
     "output_type": "display_data"
    }
   ],
   "source": [
    "ps4_score_influence = (df_3_years.query('platform == \"PS4\" ')\n",
    "                     .loc[:, ['name', 'critic_score', 'user_score', 'total_sales']])\n",
    "\n",
    "plt.figure(figsize=(15,5), dpi= 80)\n",
    "sns.heatmap(ps4_score_influence.corr(), \n",
    "            xticklabels = ps4_score_influence.corr().columns, \n",
    "            yticklabels = ps4_score_influence.corr().columns, \n",
    "            cmap='RdYlGn', \n",
    "            center=0, \n",
    "            annot=True)\n",
    "\n",
    "plt.title('Корреляция продаж от отзывов', fontsize=15)\n",
    "plt.xticks(fontsize=9)\n",
    "plt.yticks(fontsize=9)\n",
    "plt.show()"
   ]
  },
  {
   "cell_type": "code",
   "execution_count": 28,
   "metadata": {},
   "outputs": [
    {
     "data": {
      "image/png": "[encoded data removed]",
      "text/plain": [
       "<Figure size 1080x648 with 9 Axes>"
      ]
     },
     "metadata": {
      "needs_background": "light"
     },
     "output_type": "display_data"
    }
   ],
   "source": [
    "pd.plotting.scatter_matrix(ps4_score_influence, figsize=(15, 9), alpha=1, c='b');\n",
    "plt.show()"
   ]
  },
  {
   "cell_type": "markdown",
   "metadata": {},
   "source": [
    "На продажи игр влияют оценки критиков, связь умеренная, коэффициент корреляции равен 0.4. Также наблюдается взаимосвязь между оценками критиков и оценками пользователей, связь так же умеренная. Связи между продажами и оценками пользователей не выявлено. \n",
    "\n",
    "Если же говорить о других платформах, то ситуация скорее всего будет схожая, так как в реальной жизни люди очень часто при покупке чего-либо читают сначала отзывы, а уже после покупают продукт, и критики и обычные пользователи часто сходятся во мнениях."
   ]
  },
  {
   "cell_type": "markdown",
   "metadata": {},
   "source": [
    "### Посмотрите на общее распределение игр по жанрам. Что можно сказать о самых прибыльных жанрах? Выделяются ли жанры с высокими и низкими продажами?"
   ]
  },
  {
   "cell_type": "markdown",
   "metadata": {},
   "source": [
    "Создадим сводную таблицу по продажам и количеству выпущенных игр по жанрам."
   ]
  },
  {
   "cell_type": "code",
   "execution_count": 29,
   "metadata": {},
   "outputs": [
    {
     "data": {
      "text/html": [
       "<div>\n",
       "<style scoped>\n",
       "    .dataframe tbody tr th:only-of-type {\n",
       "        vertical-align: middle;\n",
       "    }\n",
       "\n",
       "    .dataframe tbody tr th {\n",
       "        vertical-align: top;\n",
       "    }\n",
       "\n",
       "    .dataframe thead th {\n",
       "        text-align: right;\n",
       "    }\n",
       "</style>\n",
       "<table border=\"1\" class=\"dataframe\">\n",
       "  <thead>\n",
       "    <tr style=\"text-align: right;\">\n",
       "      <th></th>\n",
       "      <th>genre</th>\n",
       "      <th>Продажи, $ млн.</th>\n",
       "      <th>Количество игр, шт.</th>\n",
       "    </tr>\n",
       "  </thead>\n",
       "  <tbody>\n",
       "    <tr>\n",
       "      <td>0</td>\n",
       "      <td>Action</td>\n",
       "      <td>199.36</td>\n",
       "      <td>619</td>\n",
       "    </tr>\n",
       "    <tr>\n",
       "      <td>1</td>\n",
       "      <td>Shooter</td>\n",
       "      <td>170.94</td>\n",
       "      <td>128</td>\n",
       "    </tr>\n",
       "    <tr>\n",
       "      <td>2</td>\n",
       "      <td>Sports</td>\n",
       "      <td>109.48</td>\n",
       "      <td>161</td>\n",
       "    </tr>\n",
       "    <tr>\n",
       "      <td>3</td>\n",
       "      <td>Role-Playing</td>\n",
       "      <td>101.44</td>\n",
       "      <td>221</td>\n",
       "    </tr>\n",
       "    <tr>\n",
       "      <td>4</td>\n",
       "      <td>Misc</td>\n",
       "      <td>37.55</td>\n",
       "      <td>113</td>\n",
       "    </tr>\n",
       "    <tr>\n",
       "      <td>5</td>\n",
       "      <td>Fighting</td>\n",
       "      <td>28.22</td>\n",
       "      <td>60</td>\n",
       "    </tr>\n",
       "    <tr>\n",
       "      <td>6</td>\n",
       "      <td>Racing</td>\n",
       "      <td>27.52</td>\n",
       "      <td>69</td>\n",
       "    </tr>\n",
       "    <tr>\n",
       "      <td>7</td>\n",
       "      <td>Platform</td>\n",
       "      <td>18.09</td>\n",
       "      <td>38</td>\n",
       "    </tr>\n",
       "    <tr>\n",
       "      <td>8</td>\n",
       "      <td>Adventure</td>\n",
       "      <td>17.55</td>\n",
       "      <td>185</td>\n",
       "    </tr>\n",
       "    <tr>\n",
       "      <td>9</td>\n",
       "      <td>Simulation</td>\n",
       "      <td>13.13</td>\n",
       "      <td>44</td>\n",
       "    </tr>\n",
       "    <tr>\n",
       "      <td>10</td>\n",
       "      <td>Strategy</td>\n",
       "      <td>3.96</td>\n",
       "      <td>37</td>\n",
       "    </tr>\n",
       "    <tr>\n",
       "      <td>11</td>\n",
       "      <td>Puzzle</td>\n",
       "      <td>2.21</td>\n",
       "      <td>14</td>\n",
       "    </tr>\n",
       "  </tbody>\n",
       "</table>\n",
       "</div>"
      ],
      "text/plain": [
       "           genre  Продажи, $ млн.  Количество игр, шт.\n",
       "0         Action           199.36                  619\n",
       "1        Shooter           170.94                  128\n",
       "2         Sports           109.48                  161\n",
       "3   Role-Playing           101.44                  221\n",
       "4           Misc            37.55                  113\n",
       "5       Fighting            28.22                   60\n",
       "6         Racing            27.52                   69\n",
       "7       Platform            18.09                   38\n",
       "8      Adventure            17.55                  185\n",
       "9     Simulation            13.13                   44\n",
       "10      Strategy             3.96                   37\n",
       "11        Puzzle             2.21                   14"
      ]
     },
     "execution_count": 29,
     "metadata": {},
     "output_type": "execute_result"
    }
   ],
   "source": [
    "sales_per_genre = (df_3_years\n",
    "                    .pivot_table(index='genre', values='total_sales', aggfunc=['sum', 'count']))\n",
    "\n",
    "sales_per_genre.columns = ['Продажи, $ млн.', 'Количество игр, шт.']\n",
    "sales_per_genre.sort_values(by='Продажи, $ млн.', inplace=True, ascending=False)\n",
    "sales_per_genre.reset_index(inplace=True)\n",
    "sales_per_genre"
   ]
  },
  {
   "cell_type": "markdown",
   "metadata": {},
   "source": [
    "С огромной разницой в количестве игр вырывается Экшн, соответственно сумма продаж у этого жанра болльше всего. Так же к популярным жанрам можно отнести шутеры, спортивные и ролевые игры.\n",
    " \n",
    "Построим график по этим данным для наглядности."
   ]
  },
  {
   "cell_type": "code",
   "execution_count": 30,
   "metadata": {},
   "outputs": [
    {
     "data": {
      "image/png": "[encoded data removed]",
      "text/plain": [
       "<Figure size 1200x400 with 2 Axes>"
      ]
     },
     "metadata": {
      "needs_background": "light"
     },
     "output_type": "display_data"
    }
   ],
   "source": [
    "x = sales_per_genre['genre']\n",
    "y1 = sales_per_genre['Продажи, $ млн.']\n",
    "y2 = sales_per_genre['Количество игр, шт.']\n",
    "\n",
    "fig, ax1 = plt.subplots(1,1,figsize=(15,5), dpi= 80)\n",
    "ax1.plot(x, y1, color='tab:red')\n",
    "\n",
    "ax2 = ax1.twinx()\n",
    "ax2.plot(x, y2, color='tab:blue')\n",
    "\n",
    "ax1.set_xlabel('Жанр игры', fontsize=20)\n",
    "ax1.tick_params(axis='x', rotation=0, labelsize=12)\n",
    "ax1.set_ylabel('Продажи, $ млн.', color='tab:red', fontsize=20)\n",
    "ax1.tick_params(axis='y', rotation=0, labelcolor='tab:red' )\n",
    "ax1.grid(alpha=.4)\n",
    "\n",
    "ax2.set_ylabel('Количество игр, шт.', color='tab:blue', fontsize=20)\n",
    "ax2.tick_params(axis='y', labelcolor='tab:blue')\n",
    "ax2.set_title('Влияние жанра на продажи', fontsize=22)\n",
    "\n",
    "plt.show()"
   ]
  },
  {
   "cell_type": "markdown",
   "metadata": {},
   "source": [
    "Из графика можно сделать выводы:\n",
    "* Самые прибыльные жанры: Action, Shooter, Role-Playing, Sports.\n",
    "* Наименее прибыльные: Simulation, Adventure, Strategy, Puzzle."
   ]
  },
  {
   "cell_type": "markdown",
   "metadata": {},
   "source": [
    "## Составление портрета пользователя каждого региона"
   ]
  },
  {
   "cell_type": "markdown",
   "metadata": {},
   "source": [
    "Напишем функцию, которая выведет топ-5 платорм в заданном регионе."
   ]
  },
  {
   "cell_type": "code",
   "execution_count": 31,
   "metadata": {},
   "outputs": [],
   "source": [
    "def top_5_platforms_of_region(df, column):\n",
    "    top_5_platforms = df.groupby('platform')[column].sum().sort_values(ascending=False).head()\n",
    "    top_5_platforms\n",
    "    (top_5_platforms.plot(autopct='%1.1f%%', \n",
    "                          kind='pie', \n",
    "                          title='Доля продаж по платформам', \n",
    "                          legend=False, figsize=(7, 7)).set(ylabel=''));\n",
    "    plt.show()\n",
    "    return top_5_platforms"
   ]
  },
  {
   "cell_type": "markdown",
   "metadata": {},
   "source": [
    "Напишем функцию, которая выведет топ-5 жанров в заданном регионе."
   ]
  },
  {
   "cell_type": "code",
   "execution_count": 32,
   "metadata": {},
   "outputs": [],
   "source": [
    "def top_5_genres_of_region(df, column):\n",
    "    top_5_genres = df.groupby('genre')[column].sum().sort_values(ascending=False).head()\n",
    "    top_5_genres\n",
    "    (top_5_genres.plot(autopct='%1.1f%%', kind='pie', title='Доля продаж по жанрам', legend=False, figsize=(7, 7))\n",
    "                 .set(ylabel=''));\n",
    "    plt.show()\n",
    "    return top_5_genres"
   ]
  },
  {
   "cell_type": "markdown",
   "metadata": {},
   "source": [
    "Напишем функцию, которая выведет продажи и количество проданных игр по жанрам заданного региона."
   ]
  },
  {
   "cell_type": "code",
   "execution_count": 33,
   "metadata": {},
   "outputs": [],
   "source": [
    "def influence_ESRB(df, column):\n",
    "    sales_per_rating = df.pivot_table(index='rating', values=column, aggfunc=['sum', 'count'])\n",
    "    sales_per_rating.columns = ['Продажи, $ млн.', 'Количество игр, шт.']\n",
    "    sales_per_rating.reset_index(inplace=True)\n",
    "    sales_per_rating.sort_values(by='Продажи, $ млн.', inplace=True)\n",
    "    \n",
    "    x = sales_per_rating['rating']\n",
    "    y1 = sales_per_rating['Продажи, $ млн.']\n",
    "    y2 = sales_per_rating['Количество игр, шт.']\n",
    "\n",
    "    fig, ax1 = plt.subplots(1,1,figsize=(15,5), dpi= 80)\n",
    "    ax1.plot(x, y1, color='tab:red')\n",
    "\n",
    "    ax2 = ax1.twinx()\n",
    "    ax2.plot(x, y2, color='tab:blue')\n",
    "\n",
    "    ax1.set_xlabel('Рейтинг ESRB', fontsize=20)\n",
    "    ax1.tick_params(axis='x', rotation=0, labelsize=12)\n",
    "    ax1.set_ylabel('Продажи, $ млн.', color='tab:red', fontsize=20)\n",
    "    ax1.tick_params(axis='y', rotation=0, labelcolor='tab:red' )\n",
    "    ax1.grid(alpha=.4)\n",
    "\n",
    "    ax2.set_ylabel('Количество игр, шт.', color='tab:blue', fontsize=20)\n",
    "    ax2.tick_params(axis='y', labelcolor='tab:blue')\n",
    "    ax2.set_title('Влияние рейтинга ESRB на продажи', fontsize=22)\n",
    "\n",
    "    plt.show()\n",
    "\n",
    "    return sales_per_rating"
   ]
  },
  {
   "cell_type": "markdown",
   "metadata": {},
   "source": [
    "### Регион North America"
   ]
  },
  {
   "cell_type": "code",
   "execution_count": 34,
   "metadata": {},
   "outputs": [
    {
     "data": {
      "image/png": "[encoded data removed]",
      "text/plain": [
       "<Figure size 504x504 with 1 Axes>"
      ]
     },
     "metadata": {},
     "output_type": "display_data"
    },
    {
     "data": {
      "text/plain": [
       "platform\n",
       "PS4     98.61\n",
       "XOne    81.27\n",
       "X360    28.30\n",
       "3DS     22.64\n",
       "PS3     22.05\n",
       "Name: na_sales, dtype: float64"
      ]
     },
     "execution_count": 34,
     "metadata": {},
     "output_type": "execute_result"
    }
   ],
   "source": [
    "na_region = (df_3_years.query('na_sales != 0 ')\n",
    "             .loc[:, ['name', 'platform', 'year_of_release', 'genre', 'na_sales', 'rating']])\n",
    "\n",
    "top_5_platforms_of_region(na_region, 'na_sales')"
   ]
  },
  {
   "cell_type": "markdown",
   "metadata": {},
   "source": [
    "В Северной Америке лидерами продаж являются PS4, XOne и X360."
   ]
  },
  {
   "cell_type": "code",
   "execution_count": 35,
   "metadata": {},
   "outputs": [
    {
     "data": {
      "image/png": "[encoded data removed]",
      "text/plain": [
       "<Figure size 504x504 with 1 Axes>"
      ]
     },
     "metadata": {},
     "output_type": "display_data"
    },
    {
     "data": {
      "text/plain": [
       "genre\n",
       "Shooter         79.02\n",
       "Action          72.53\n",
       "Sports          46.13\n",
       "Role-Playing    33.47\n",
       "Misc            15.05\n",
       "Name: na_sales, dtype: float64"
      ]
     },
     "execution_count": 35,
     "metadata": {},
     "output_type": "execute_result"
    }
   ],
   "source": [
    "top_5_genres_of_region(na_region, 'na_sales')"
   ]
  },
  {
   "cell_type": "markdown",
   "metadata": {},
   "source": [
    "Самыми продаваемыми жанрами являются шутеры и экшены."
   ]
  },
  {
   "cell_type": "code",
   "execution_count": 36,
   "metadata": {},
   "outputs": [
    {
     "data": {
      "image/png": "[encoded data removed]",
      "text/plain": [
       "<Figure size 1200x400 with 2 Axes>"
      ]
     },
     "metadata": {
      "needs_background": "light"
     },
     "output_type": "display_data"
    },
    {
     "data": {
      "text/html": [
       "<div>\n",
       "<style scoped>\n",
       "    .dataframe tbody tr th:only-of-type {\n",
       "        vertical-align: middle;\n",
       "    }\n",
       "\n",
       "    .dataframe tbody tr th {\n",
       "        vertical-align: top;\n",
       "    }\n",
       "\n",
       "    .dataframe thead th {\n",
       "        text-align: right;\n",
       "    }\n",
       "</style>\n",
       "<table border=\"1\" class=\"dataframe\">\n",
       "  <thead>\n",
       "    <tr style=\"text-align: right;\">\n",
       "      <th></th>\n",
       "      <th>rating</th>\n",
       "      <th>Продажи, $ млн.</th>\n",
       "      <th>Количество игр, шт.</th>\n",
       "    </tr>\n",
       "  </thead>\n",
       "  <tbody>\n",
       "    <tr>\n",
       "      <td>1</td>\n",
       "      <td>E10+</td>\n",
       "      <td>33.23</td>\n",
       "      <td>162</td>\n",
       "    </tr>\n",
       "    <tr>\n",
       "      <td>3</td>\n",
       "      <td>T</td>\n",
       "      <td>38.95</td>\n",
       "      <td>193</td>\n",
       "    </tr>\n",
       "    <tr>\n",
       "      <td>0</td>\n",
       "      <td>E</td>\n",
       "      <td>50.74</td>\n",
       "      <td>155</td>\n",
       "    </tr>\n",
       "    <tr>\n",
       "      <td>2</td>\n",
       "      <td>M</td>\n",
       "      <td>96.42</td>\n",
       "      <td>237</td>\n",
       "    </tr>\n",
       "  </tbody>\n",
       "</table>\n",
       "</div>"
      ],
      "text/plain": [
       "  rating  Продажи, $ млн.  Количество игр, шт.\n",
       "1   E10+            33.23                  162\n",
       "3      T            38.95                  193\n",
       "0      E            50.74                  155\n",
       "2      M            96.42                  237"
      ]
     },
     "execution_count": 36,
     "metadata": {},
     "output_type": "execute_result"
    }
   ],
   "source": [
    "influence_ESRB(na_region, 'na_sales')"
   ]
  },
  {
   "cell_type": "markdown",
   "metadata": {},
   "source": [
    "Максимальный по продажам рейтинг ESRB: \"M\" - для взрослых"
   ]
  },
  {
   "cell_type": "markdown",
   "metadata": {},
   "source": [
    "### Регион Europe"
   ]
  },
  {
   "cell_type": "code",
   "execution_count": 37,
   "metadata": {},
   "outputs": [
    {
     "data": {
      "image/png": "[encoded data removed]",
      "text/plain": [
       "<Figure size 504x504 with 1 Axes>"
      ]
     },
     "metadata": {},
     "output_type": "display_data"
    },
    {
     "data": {
      "text/plain": [
       "platform\n",
       "PS4     130.04\n",
       "XOne     46.25\n",
       "PS3      25.54\n",
       "PC       17.97\n",
       "3DS      16.12\n",
       "Name: eu_sales, dtype: float64"
      ]
     },
     "execution_count": 37,
     "metadata": {},
     "output_type": "execute_result"
    }
   ],
   "source": [
    "eu_region = (df_3_years.query('eu_sales != 0 ')\n",
    "             .loc[:, ['name', 'platform', 'year_of_release', 'genre', 'eu_sales', 'rating']])\n",
    "\n",
    "top_5_platforms_of_region(eu_region, 'eu_sales')"
   ]
  },
  {
   "cell_type": "markdown",
   "metadata": {},
   "source": [
    "В Европе самой продаваемой платформой является PS4."
   ]
  },
  {
   "cell_type": "code",
   "execution_count": 38,
   "metadata": {},
   "outputs": [
    {
     "data": {
      "image/png": "[encoded data removed]",
      "text/plain": [
       "<Figure size 504x504 with 1 Axes>"
      ]
     },
     "metadata": {},
     "output_type": "display_data"
    },
    {
     "data": {
      "text/plain": [
       "genre\n",
       "Action          74.68\n",
       "Shooter         65.52\n",
       "Sports          45.73\n",
       "Role-Playing    28.17\n",
       "Racing          14.13\n",
       "Name: eu_sales, dtype: float64"
      ]
     },
     "execution_count": 38,
     "metadata": {},
     "output_type": "execute_result"
    }
   ],
   "source": [
    "top_5_genres_of_region(eu_region, 'eu_sales')"
   ]
  },
  {
   "cell_type": "markdown",
   "metadata": {},
   "source": [
    "Так же как и в Северной Америке, самыми продаваемыми жанрами являются шутеры и экшн игры."
   ]
  },
  {
   "cell_type": "code",
   "execution_count": 39,
   "metadata": {},
   "outputs": [
    {
     "data": {
      "image/png": "[encoded data removed]",
      "text/plain": [
       "<Figure size 1200x400 with 2 Axes>"
      ]
     },
     "metadata": {
      "needs_background": "light"
     },
     "output_type": "display_data"
    },
    {
     "data": {
      "text/html": [
       "<div>\n",
       "<style scoped>\n",
       "    .dataframe tbody tr th:only-of-type {\n",
       "        vertical-align: middle;\n",
       "    }\n",
       "\n",
       "    .dataframe tbody tr th {\n",
       "        vertical-align: top;\n",
       "    }\n",
       "\n",
       "    .dataframe thead th {\n",
       "        text-align: right;\n",
       "    }\n",
       "</style>\n",
       "<table border=\"1\" class=\"dataframe\">\n",
       "  <thead>\n",
       "    <tr style=\"text-align: right;\">\n",
       "      <th></th>\n",
       "      <th>rating</th>\n",
       "      <th>Продажи, $ млн.</th>\n",
       "      <th>Количество игр, шт.</th>\n",
       "    </tr>\n",
       "  </thead>\n",
       "  <tbody>\n",
       "    <tr>\n",
       "      <td>1</td>\n",
       "      <td>E10+</td>\n",
       "      <td>26.16</td>\n",
       "      <td>168</td>\n",
       "    </tr>\n",
       "    <tr>\n",
       "      <td>3</td>\n",
       "      <td>T</td>\n",
       "      <td>34.07</td>\n",
       "      <td>203</td>\n",
       "    </tr>\n",
       "    <tr>\n",
       "      <td>0</td>\n",
       "      <td>E</td>\n",
       "      <td>58.06</td>\n",
       "      <td>190</td>\n",
       "    </tr>\n",
       "    <tr>\n",
       "      <td>2</td>\n",
       "      <td>M</td>\n",
       "      <td>93.44</td>\n",
       "      <td>242</td>\n",
       "    </tr>\n",
       "  </tbody>\n",
       "</table>\n",
       "</div>"
      ],
      "text/plain": [
       "  rating  Продажи, $ млн.  Количество игр, шт.\n",
       "1   E10+            26.16                  168\n",
       "3      T            34.07                  203\n",
       "0      E            58.06                  190\n",
       "2      M            93.44                  242"
      ]
     },
     "execution_count": 39,
     "metadata": {},
     "output_type": "execute_result"
    }
   ],
   "source": [
    "influence_ESRB(eu_region, 'eu_sales')"
   ]
  },
  {
   "cell_type": "markdown",
   "metadata": {},
   "source": [
    "Самый продаваемый рейтинг \"M\" - для взрослых."
   ]
  },
  {
   "cell_type": "markdown",
   "metadata": {},
   "source": [
    "### Регион Japan"
   ]
  },
  {
   "cell_type": "code",
   "execution_count": 40,
   "metadata": {},
   "outputs": [
    {
     "data": {
      "image/png": "[encoded data removed]",
      "text/plain": [
       "<Figure size 504x504 with 1 Axes>"
      ]
     },
     "metadata": {},
     "output_type": "display_data"
    },
    {
     "data": {
      "text/plain": [
       "platform\n",
       "3DS     44.24\n",
       "PS4     15.02\n",
       "PSV     14.54\n",
       "PS3     11.22\n",
       "WiiU     7.31\n",
       "Name: jp_sales, dtype: float64"
      ]
     },
     "execution_count": 40,
     "metadata": {},
     "output_type": "execute_result"
    }
   ],
   "source": [
    "jp_region = (df_3_years.query('jp_sales != 0 ')\n",
    "             .loc[:, ['name', 'platform', 'year_of_release', 'genre', 'jp_sales', 'rating']])\n",
    "\n",
    "top_5_platforms_of_region(jp_region, 'jp_sales')"
   ]
  },
  {
   "cell_type": "markdown",
   "metadata": {},
   "source": [
    "В Японии лидером продаж является 3DS, на втором месте PS4."
   ]
  },
  {
   "cell_type": "code",
   "execution_count": 41,
   "metadata": {},
   "outputs": [
    {
     "data": {
      "image/png": "[encoded data removed]",
      "text/plain": [
       "<Figure size 504x504 with 1 Axes>"
      ]
     },
     "metadata": {},
     "output_type": "display_data"
    },
    {
     "data": {
      "text/plain": [
       "genre\n",
       "Role-Playing    31.16\n",
       "Action          29.58\n",
       "Fighting         6.37\n",
       "Misc             5.61\n",
       "Shooter          4.87\n",
       "Name: jp_sales, dtype: float64"
      ]
     },
     "execution_count": 41,
     "metadata": {},
     "output_type": "execute_result"
    }
   ],
   "source": [
    "top_5_genres_of_region(jp_region, 'jp_sales')"
   ]
  },
  {
   "cell_type": "markdown",
   "metadata": {},
   "source": [
    "Самыми популярными жанрами здесь являются ролевые игры и экшены."
   ]
  },
  {
   "cell_type": "code",
   "execution_count": 42,
   "metadata": {},
   "outputs": [
    {
     "data": {
      "image/png": "[encoded data removed]",
      "text/plain": [
       "<Figure size 1200x400 with 2 Axes>"
      ]
     },
     "metadata": {
      "needs_background": "light"
     },
     "output_type": "display_data"
    },
    {
     "data": {
      "text/html": [
       "<div>\n",
       "<style scoped>\n",
       "    .dataframe tbody tr th:only-of-type {\n",
       "        vertical-align: middle;\n",
       "    }\n",
       "\n",
       "    .dataframe tbody tr th {\n",
       "        vertical-align: top;\n",
       "    }\n",
       "\n",
       "    .dataframe thead th {\n",
       "        text-align: right;\n",
       "    }\n",
       "</style>\n",
       "<table border=\"1\" class=\"dataframe\">\n",
       "  <thead>\n",
       "    <tr style=\"text-align: right;\">\n",
       "      <th></th>\n",
       "      <th>rating</th>\n",
       "      <th>Продажи, $ млн.</th>\n",
       "      <th>Количество игр, шт.</th>\n",
       "    </tr>\n",
       "  </thead>\n",
       "  <tbody>\n",
       "    <tr>\n",
       "      <td>1</td>\n",
       "      <td>E10+</td>\n",
       "      <td>4.46</td>\n",
       "      <td>42</td>\n",
       "    </tr>\n",
       "    <tr>\n",
       "      <td>2</td>\n",
       "      <td>M</td>\n",
       "      <td>8.01</td>\n",
       "      <td>104</td>\n",
       "    </tr>\n",
       "    <tr>\n",
       "      <td>0</td>\n",
       "      <td>E</td>\n",
       "      <td>8.94</td>\n",
       "      <td>54</td>\n",
       "    </tr>\n",
       "    <tr>\n",
       "      <td>3</td>\n",
       "      <td>T</td>\n",
       "      <td>14.78</td>\n",
       "      <td>139</td>\n",
       "    </tr>\n",
       "  </tbody>\n",
       "</table>\n",
       "</div>"
      ],
      "text/plain": [
       "  rating  Продажи, $ млн.  Количество игр, шт.\n",
       "1   E10+             4.46                   42\n",
       "2      M             8.01                  104\n",
       "0      E             8.94                   54\n",
       "3      T            14.78                  139"
      ]
     },
     "execution_count": 42,
     "metadata": {},
     "output_type": "execute_result"
    }
   ],
   "source": [
    "influence_ESRB(jp_region, 'jp_sales')"
   ]
  },
  {
   "cell_type": "markdown",
   "metadata": {},
   "source": [
    "Максимальными по продажам является рейтинг \"Т\" - для подростков."
   ]
  },
  {
   "cell_type": "markdown",
   "metadata": {},
   "source": [
    "Выводы:\n",
    "\n",
    "Портрет пользователя NA (North America):\n",
    "* Предпочитает PS4 и XOne.\n",
    "* Любит жанры Action и Shooter с рейтингом для взрослых.\n",
    "\n",
    "Портрет пользователя EU:\n",
    "* Предпочитает PS4 и XOne.\n",
    "* Любит жанры Action и Shooter с рейтингом для взрослых.\n",
    "\n",
    "Портрет пользователя JP:\n",
    "* Предпочитает 3DS.\n",
    "* Любит жанры Role-Playing и Action с рейтингом для подростков."
   ]
  },
  {
   "cell_type": "markdown",
   "metadata": {},
   "source": [
    "## Проверка гипотез"
   ]
  },
  {
   "cell_type": "markdown",
   "metadata": {},
   "source": [
    "Гипотеза: Средние пользовательские рейтинги платформ Xbox One и PC одинаковые.\n",
    "\n",
    "H₀: Средние пользовательские рейтинги платформ Xbox One и PC равны.\n",
    "\n",
    "H₁: Средние пользовательские рейтинги платформ Xbox One и PC различается."
   ]
  },
  {
   "cell_type": "code",
   "execution_count": 43,
   "metadata": {
    "scrolled": true
   },
   "outputs": [
    {
     "name": "stdout",
     "output_type": "stream",
     "text": [
      "Средний пользовательский рейтинг платформы Xbox One: 6.52\n",
      "Средний пользовательский рейтинг платформы PC: 6.43\n",
      "p-значение: 0.5535080500643661\n",
      "Не получилось отвергнуть нулевую гипотезу\n"
     ]
    }
   ],
   "source": [
    "alpha = .05\n",
    "\n",
    "xone_user_rating = df.query('year_of_release >= 2012 and platform == \"XOne\"')['user_score'].dropna()\n",
    "pc_user_rating = df.query('year_of_release >= 2012 and platform == \"PC\"')['user_score'].dropna()\n",
    "\n",
    "print('Средний пользовательский рейтинг платформы Xbox One: {:.2f}'.format(xone_user_rating.mean()))\n",
    "print('Средний пользовательский рейтинг платформы PC: {:.2f}'.format(pc_user_rating.mean()))\n",
    "\n",
    "results = st.ttest_ind(xone_user_rating, pc_user_rating, equal_var = True)\n",
    "\n",
    "print('p-значение:', results.pvalue)\n",
    "\n",
    "if (results.pvalue < alpha):\n",
    "    print(\"Отвергаем нулевую гипотезу\")\n",
    "else:\n",
    "    print(\"Не получилось отвергнуть нулевую гипотезу\")"
   ]
  },
  {
   "cell_type": "markdown",
   "metadata": {},
   "source": [
    "Гипотеза подтвердилась. Средние пользовательские рейтинги платформ Xbox One и PC равны."
   ]
  },
  {
   "cell_type": "markdown",
   "metadata": {},
   "source": [
    "Гипотеза: Средние пользовательские рейтинги жанров Action и Sports разные.\n",
    "\n",
    "H₀: Средние пользовательские рейтинги жанров Action и Sports не отличаются.\n",
    "\n",
    "H₁: Средние пользовательские рейтинги жанров Action и Sports разные."
   ]
  },
  {
   "cell_type": "code",
   "execution_count": 44,
   "metadata": {},
   "outputs": [
    {
     "name": "stdout",
     "output_type": "stream",
     "text": [
      "Средний пользовательский рейтинг жанра Action: 6.83\n",
      "Средний пользовательский рейтинг жанра Sport: 5.46\n",
      "p-значение: 3.7163089460934874e-26\n",
      "Отвергаем нулевую гипотезу\n"
     ]
    }
   ],
   "source": [
    "alpha = .05\n",
    "\n",
    "action_user_rating = df.query('year_of_release >= 2012 and genre == \"Action\"')['user_score'].dropna()\n",
    "sports_user_rating = df.query('year_of_release >= 2012 and genre == \"Sports\"')['user_score'].dropna()\n",
    "\n",
    "print('Средний пользовательский рейтинг жанра Action: {:.2f}'.format(action_user_rating.mean()))\n",
    "print('Средний пользовательский рейтинг жанра Sport: {:.2f}'.format(sports_user_rating.mean()))\n",
    "                                                                     \n",
    "results = st.ttest_ind(action_user_rating, sports_user_rating, equal_var = True)\n",
    "\n",
    "print('p-значение:', results.pvalue)\n",
    "\n",
    "if (results.pvalue < alpha):\n",
    "    print(\"Отвергаем нулевую гипотезу\")\n",
    "else:\n",
    "    print(\"Не получилось отвергнуть нулевую гипотезу\")"
   ]
  },
  {
   "cell_type": "markdown",
   "metadata": {},
   "source": [
    "Гипотеза подтвердилась. Средние пользовательские рейтинги жанров Action и Sports разные."
   ]
  },
  {
   "cell_type": "markdown",
   "metadata": {
    "tags": []
   },
   "source": [
    "Гипотеза: Средние пользовательские рейтинги платформ Xbox One и PC одинаковые. (2014-2016)\n",
    "\n",
    "H₀: Средние пользовательские рейтинги платформ Xbox One и PC равны.\n",
    "\n",
    "H₁: Средние пользовательские рейтинги платформ Xbox One и PC различается."
   ]
  },
  {
   "cell_type": "code",
   "execution_count": 45,
   "metadata": {},
   "outputs": [
    {
     "name": "stdout",
     "output_type": "stream",
     "text": [
      "Проверка гипотез по данным за 2014-2016\n",
      "Средний пользовательский рейтинг платформы Xbox One: 6.59\n",
      "Средний пользовательский рейтинг платформы PC: 6.43\n",
      "p-значение: 0.30395192726045817\n",
      "Не получилось отвергнуть нулевую гипотезу\n"
     ]
    }
   ],
   "source": [
    "alpha = .05\n",
    "\n",
    "xone_user_rating = df.query('year_of_release >= 2014 and platform == \"XOne\"')['user_score'].dropna()\n",
    "pc_user_rating = df.query('year_of_release >= 2012 and platform == \"PC\"')['user_score'].dropna()\n",
    "\n",
    "print(\"Проверка гипотез по данным за 2014-2016\")\n",
    "print('Средний пользовательский рейтинг платформы Xbox One: {:.2f}'.format(xone_user_rating.mean()))\n",
    "print('Средний пользовательский рейтинг платформы PC: {:.2f}'.format(pc_user_rating.mean()))\n",
    "\n",
    "results = st.ttest_ind(xone_user_rating, pc_user_rating, equal_var = True)\n",
    "\n",
    "print('p-значение:', results.pvalue)\n",
    "\n",
    "if (results.pvalue < alpha):\n",
    "    print(\"Отвергаем нулевую гипотезу\")\n",
    "else:\n",
    "    print(\"Не получилось отвергнуть нулевую гипотезу\")"
   ]
  },
  {
   "cell_type": "markdown",
   "metadata": {},
   "source": [
    "Гипотеза подтвердилась. Средние пользовательские рейтинги платформ Xbox One и PC равны."
   ]
  },
  {
   "cell_type": "markdown",
   "metadata": {},
   "source": [
    "Гипотеза: Средние пользовательские рейтинги жанров Action и Sports разные. (2014-2016)\n",
    "\n",
    "H₀: Средние пользовательские рейтинги жанров Action и Sports не отличаются.\n",
    "\n",
    "H₁: Средние пользовательские рейтинги жанров Action и Sports разные."
   ]
  },
  {
   "cell_type": "code",
   "execution_count": 46,
   "metadata": {},
   "outputs": [
    {
     "name": "stdout",
     "output_type": "stream",
     "text": [
      "Проверка гипотез по данным за 2014-2016\n",
      "Средний пользовательский рейтинг жанра Action: 6.76\n",
      "Средний пользовательский рейтинг жанра Sport: 5.23\n",
      "p-значение: 2.8711147985105864e-19\n",
      "Отвергаем нулевую гипотезу\n"
     ]
    }
   ],
   "source": [
    "alpha = .05\n",
    "\n",
    "action_user_rating = df.query('year_of_release >= 2014 and genre == \"Action\"')['user_score'].dropna()\n",
    "sports_user_rating = df.query('year_of_release >= 2014 and genre == \"Sports\"')['user_score'].dropna()\n",
    "\n",
    "print(\"Проверка гипотез по данным за 2014-2016\")\n",
    "print('Средний пользовательский рейтинг жанра Action: {:.2f}'.format(action_user_rating.mean()))\n",
    "print('Средний пользовательский рейтинг жанра Sport: {:.2f}'.format(sports_user_rating.mean()))\n",
    "                                                                     \n",
    "results = st.ttest_ind(action_user_rating, sports_user_rating, equal_var = True)\n",
    "\n",
    "print('p-значение:', results.pvalue)\n",
    "\n",
    "if (results.pvalue < alpha):\n",
    "    print(\"Отвергаем нулевую гипотезу\")\n",
    "else:\n",
    "    print(\"Не получилось отвергнуть нулевую гипотезу\")"
   ]
  },
  {
   "cell_type": "markdown",
   "metadata": {},
   "source": [
    "Гипотеза подтвердилась. Средние пользовательские рейтинги жанров Action и Sports разные."
   ]
  },
  {
   "cell_type": "markdown",
   "metadata": {},
   "source": [
    "## Общий вывод"
   ]
  },
  {
   "cell_type": "markdown",
   "metadata": {},
   "source": [
    "Исходя из анализа, можно сделать выводы:\n",
    "\n",
    "* Актуальный период для прогноза на 2017 год - 3 года, т.е. с 2014 года.\n",
    "* Из всех платформ только PS4, XOne на восходящем тренде, остальные в нисходящем тренде.\n",
    "* Потенциально прибыльные платформы PS4, XOne, PC.\n",
    "* По продажам лидируют PS3, PS4, WiiU, X360, XOne.\n",
    "* Отзывы критиков вляиют на продажи. Отзывы пользователей не влияют на продажи.\n",
    "* Самые высокие продажи в жанрах Action, Shooter, Role-Playing, Sports.\n",
    "\n",
    "Портреты пользователей для разных регионов:\n",
    "\n",
    "Портрет пользователя NA (North America):\n",
    "* Предпочитает PS4 и XOne.\n",
    "* Любит жанры Action и Shooter с рейтингом для взрослых.\n",
    "\n",
    "Портрет пользователя EU:\n",
    "* Предпочитает PS4 и XOne.\n",
    "* Любит жанры Action и Shooter с рейтингом для взрослых.\n",
    "\n",
    "Портрет пользователя JP:\n",
    "* Предпочитает 3DS.\n",
    "* Любит жанры Role-Playing и Action с рейтингом для подростков.\n",
    "\n",
    "Проверка гипотез привела к следующим выводам:\n",
    "* Средние пользовательские рейтинги платформ Xbox One и PC равны.\n",
    "* Средние пользовательские рейтинги жанров Action и Sports разные."
   ]
  }
 ],
 "metadata": {
  "ExecuteTimeLog": [
   {
    "duration": 576,
    "start_time": "2021-12-18T21:02:57.844Z"
   },
   {
    "duration": 117,
    "start_time": "2021-12-18T21:03:16.419Z"
   },
   {
    "duration": 356,
    "start_time": "2021-12-18T21:03:52.712Z"
   },
   {
    "duration": 42,
    "start_time": "2021-12-18T21:04:01.579Z"
   },
   {
    "duration": 580,
    "start_time": "2021-12-18T21:11:24.644Z"
   },
   {
    "duration": 21,
    "start_time": "2021-12-18T21:12:06.102Z"
   },
   {
    "duration": 22,
    "start_time": "2021-12-18T21:12:13.676Z"
   },
   {
    "duration": 18,
    "start_time": "2021-12-18T21:17:44.434Z"
   },
   {
    "duration": 13,
    "start_time": "2021-12-18T21:18:31.507Z"
   },
   {
    "duration": 3,
    "start_time": "2021-12-18T21:18:39.849Z"
   },
   {
    "duration": 9,
    "start_time": "2021-12-18T21:19:06.217Z"
   },
   {
    "duration": 21,
    "start_time": "2021-12-18T21:21:53.294Z"
   },
   {
    "duration": 327,
    "start_time": "2021-12-18T21:25:06.760Z"
   },
   {
    "duration": 121,
    "start_time": "2021-12-18T21:25:24.013Z"
   },
   {
    "duration": 12,
    "start_time": "2021-12-18T21:29:44.126Z"
   },
   {
    "duration": 5,
    "start_time": "2021-12-18T21:37:32.837Z"
   },
   {
    "duration": 12,
    "start_time": "2021-12-18T21:43:23.180Z"
   },
   {
    "duration": 4,
    "start_time": "2021-12-18T21:43:33.285Z"
   },
   {
    "duration": 51,
    "start_time": "2021-12-18T21:45:43.038Z"
   },
   {
    "duration": 5,
    "start_time": "2021-12-18T21:46:44.840Z"
   },
   {
    "duration": 15,
    "start_time": "2021-12-18T21:47:24.006Z"
   },
   {
    "duration": 21,
    "start_time": "2021-12-18T21:47:41.294Z"
   },
   {
    "duration": 21,
    "start_time": "2021-12-18T21:47:50.222Z"
   },
   {
    "duration": 27,
    "start_time": "2021-12-18T21:51:00.479Z"
   },
   {
    "duration": 282,
    "start_time": "2021-12-18T21:51:59.014Z"
   },
   {
    "duration": 97,
    "start_time": "2021-12-18T21:52:02.754Z"
   },
   {
    "duration": 101,
    "start_time": "2021-12-18T21:52:07.596Z"
   },
   {
    "duration": 275,
    "start_time": "2021-12-18T21:52:19.067Z"
   },
   {
    "duration": 16,
    "start_time": "2021-12-18T21:52:47.943Z"
   },
   {
    "duration": 10,
    "start_time": "2021-12-18T21:53:10.533Z"
   },
   {
    "duration": 11,
    "start_time": "2021-12-18T21:53:19.081Z"
   },
   {
    "duration": 278,
    "start_time": "2021-12-18T21:53:29.785Z"
   },
   {
    "duration": 254,
    "start_time": "2021-12-18T21:53:58.245Z"
   },
   {
    "duration": 229,
    "start_time": "2021-12-18T21:54:08.514Z"
   },
   {
    "duration": 234,
    "start_time": "2021-12-18T21:54:33.663Z"
   },
   {
    "duration": 773,
    "start_time": "2021-12-18T21:56:18.529Z"
   },
   {
    "duration": 366,
    "start_time": "2021-12-18T21:56:38.088Z"
   },
   {
    "duration": 249,
    "start_time": "2021-12-18T21:57:19.271Z"
   },
   {
    "duration": 244,
    "start_time": "2021-12-18T21:57:32.298Z"
   },
   {
    "duration": 287,
    "start_time": "2021-12-18T21:57:40.354Z"
   },
   {
    "duration": 287,
    "start_time": "2021-12-18T22:13:44.893Z"
   },
   {
    "duration": 6,
    "start_time": "2021-12-18T22:13:59.034Z"
   },
   {
    "duration": 42,
    "start_time": "2021-12-18T22:14:18.091Z"
   },
   {
    "duration": 4,
    "start_time": "2021-12-18T22:15:19.269Z"
   },
   {
    "duration": 42,
    "start_time": "2021-12-18T22:15:25.894Z"
   },
   {
    "duration": 8,
    "start_time": "2021-12-18T22:18:21.681Z"
   },
   {
    "duration": 7,
    "start_time": "2021-12-18T22:21:05.303Z"
   },
   {
    "duration": 6,
    "start_time": "2021-12-18T22:21:11.621Z"
   },
   {
    "duration": 7,
    "start_time": "2021-12-18T22:21:45.897Z"
   },
   {
    "duration": 283,
    "start_time": "2021-12-18T22:22:03.954Z"
   },
   {
    "duration": 7,
    "start_time": "2021-12-18T22:22:12.527Z"
   },
   {
    "duration": 307,
    "start_time": "2021-12-18T22:23:36.422Z"
   },
   {
    "duration": 282,
    "start_time": "2021-12-18T22:23:55.944Z"
   },
   {
    "duration": 256,
    "start_time": "2021-12-18T22:24:06.525Z"
   },
   {
    "duration": 219,
    "start_time": "2021-12-18T22:24:36.719Z"
   },
   {
    "duration": 304,
    "start_time": "2021-12-18T22:24:54.363Z"
   },
   {
    "duration": 7,
    "start_time": "2021-12-18T22:25:11.387Z"
   },
   {
    "duration": 303,
    "start_time": "2021-12-18T22:25:14.747Z"
   },
   {
    "duration": 318,
    "start_time": "2021-12-18T22:25:23.252Z"
   },
   {
    "duration": 386,
    "start_time": "2021-12-18T22:25:52.172Z"
   },
   {
    "duration": 291,
    "start_time": "2021-12-18T22:30:03.355Z"
   },
   {
    "duration": 290,
    "start_time": "2021-12-18T22:30:07.681Z"
   },
   {
    "duration": 7,
    "start_time": "2021-12-18T22:30:13.130Z"
   },
   {
    "duration": 364,
    "start_time": "2021-12-18T22:30:14.883Z"
   },
   {
    "duration": 23,
    "start_time": "2021-12-18T22:31:20.705Z"
   },
   {
    "duration": 24,
    "start_time": "2021-12-18T22:33:08.939Z"
   },
   {
    "duration": 27,
    "start_time": "2021-12-18T22:33:43.279Z"
   },
   {
    "duration": 28,
    "start_time": "2021-12-18T22:35:13.336Z"
   },
   {
    "duration": 24,
    "start_time": "2021-12-18T22:35:45.169Z"
   },
   {
    "duration": 24,
    "start_time": "2021-12-18T22:36:08.191Z"
   },
   {
    "duration": 416,
    "start_time": "2021-12-18T22:43:37.016Z"
   },
   {
    "duration": 416,
    "start_time": "2021-12-18T22:43:47.620Z"
   },
   {
    "duration": 433,
    "start_time": "2021-12-18T22:43:54.099Z"
   },
   {
    "duration": 278,
    "start_time": "2021-12-18T22:44:50.389Z"
   },
   {
    "duration": 437,
    "start_time": "2021-12-18T22:45:01.507Z"
   },
   {
    "duration": 418,
    "start_time": "2021-12-18T22:45:14.974Z"
   },
   {
    "duration": 16,
    "start_time": "2021-12-18T22:52:02.360Z"
   },
   {
    "duration": 321,
    "start_time": "2021-12-18T22:56:22.214Z"
   },
   {
    "duration": 30,
    "start_time": "2021-12-18T22:56:57.679Z"
   },
   {
    "duration": 32,
    "start_time": "2021-12-18T22:57:37.529Z"
   },
   {
    "duration": 32,
    "start_time": "2021-12-18T22:57:52.389Z"
   },
   {
    "duration": 34,
    "start_time": "2021-12-18T22:58:00.461Z"
   },
   {
    "duration": 303,
    "start_time": "2021-12-18T22:59:08.591Z"
   },
   {
    "duration": 259,
    "start_time": "2021-12-18T22:59:16.230Z"
   },
   {
    "duration": 27,
    "start_time": "2021-12-18T22:59:32.397Z"
   },
   {
    "duration": 340,
    "start_time": "2021-12-18T22:59:35.357Z"
   },
   {
    "duration": 449,
    "start_time": "2021-12-18T22:59:50.993Z"
   },
   {
    "duration": 330,
    "start_time": "2021-12-18T23:00:09.660Z"
   },
   {
    "duration": 340,
    "start_time": "2021-12-18T23:00:17.044Z"
   },
   {
    "duration": 364,
    "start_time": "2021-12-18T23:00:30.916Z"
   },
   {
    "duration": 318,
    "start_time": "2021-12-18T23:00:58.764Z"
   },
   {
    "duration": 25,
    "start_time": "2021-12-18T23:05:37.036Z"
   },
   {
    "duration": 236,
    "start_time": "2021-12-18T23:13:54.827Z"
   },
   {
    "duration": 1444,
    "start_time": "2021-12-18T23:14:02.750Z"
   },
   {
    "duration": 24,
    "start_time": "2021-12-18T23:24:45.342Z"
   },
   {
    "duration": 101,
    "start_time": "2021-12-18T23:25:39.653Z"
   },
   {
    "duration": 23,
    "start_time": "2021-12-18T23:25:55.651Z"
   },
   {
    "duration": 333,
    "start_time": "2021-12-18T23:31:27.128Z"
   },
   {
    "duration": 1169,
    "start_time": "2021-12-18T23:42:05.070Z"
   },
   {
    "duration": 40,
    "start_time": "2021-12-18T23:42:06.241Z"
   },
   {
    "duration": 22,
    "start_time": "2021-12-18T23:42:06.283Z"
   },
   {
    "duration": 15,
    "start_time": "2021-12-18T23:42:06.306Z"
   },
   {
    "duration": 3,
    "start_time": "2021-12-18T23:42:06.322Z"
   },
   {
    "duration": 10,
    "start_time": "2021-12-18T23:42:06.326Z"
   },
   {
    "duration": 20,
    "start_time": "2021-12-18T23:42:06.337Z"
   },
   {
    "duration": 158,
    "start_time": "2021-12-18T23:42:06.359Z"
   },
   {
    "duration": 11,
    "start_time": "2021-12-18T23:42:06.519Z"
   },
   {
    "duration": 4,
    "start_time": "2021-12-18T23:42:06.532Z"
   },
   {
    "duration": 8,
    "start_time": "2021-12-18T23:42:06.538Z"
   },
   {
    "duration": 7,
    "start_time": "2021-12-18T23:42:06.548Z"
   },
   {
    "duration": 4,
    "start_time": "2021-12-18T23:42:06.557Z"
   },
   {
    "duration": 51,
    "start_time": "2021-12-18T23:42:06.563Z"
   },
   {
    "duration": 296,
    "start_time": "2021-12-18T23:42:06.616Z"
   },
   {
    "duration": 253,
    "start_time": "2021-12-18T23:42:06.914Z"
   },
   {
    "duration": 7,
    "start_time": "2021-12-18T23:42:07.169Z"
   },
   {
    "duration": 62,
    "start_time": "2021-12-18T23:42:07.178Z"
   },
   {
    "duration": 6,
    "start_time": "2021-12-18T23:42:07.242Z"
   },
   {
    "duration": 371,
    "start_time": "2021-12-18T23:42:07.250Z"
   },
   {
    "duration": 26,
    "start_time": "2021-12-18T23:42:07.623Z"
   },
   {
    "duration": 431,
    "start_time": "2021-12-18T23:42:07.650Z"
   },
   {
    "duration": 14,
    "start_time": "2021-12-18T23:42:08.083Z"
   },
   {
    "duration": 28,
    "start_time": "2021-12-18T23:42:08.107Z"
   },
   {
    "duration": 332,
    "start_time": "2021-12-18T23:42:08.136Z"
   },
   {
    "duration": 37,
    "start_time": "2021-12-18T23:42:08.470Z"
   },
   {
    "duration": 243,
    "start_time": "2021-12-18T23:42:08.510Z"
   },
   {
    "duration": 1054,
    "start_time": "2021-12-18T23:42:08.755Z"
   },
   {
    "duration": 23,
    "start_time": "2021-12-18T23:42:09.810Z"
   },
   {
    "duration": 350,
    "start_time": "2021-12-18T23:42:09.834Z"
   },
   {
    "duration": 422,
    "start_time": "2021-12-18T23:43:14.987Z"
   },
   {
    "duration": 27,
    "start_time": "2021-12-18T23:43:26.848Z"
   },
   {
    "duration": 1596,
    "start_time": "2021-12-19T12:49:59.916Z"
   },
   {
    "duration": 51,
    "start_time": "2021-12-19T12:50:01.515Z"
   },
   {
    "duration": 37,
    "start_time": "2021-12-19T12:50:01.570Z"
   },
   {
    "duration": 24,
    "start_time": "2021-12-19T12:50:01.609Z"
   },
   {
    "duration": 30,
    "start_time": "2021-12-19T12:50:01.635Z"
   },
   {
    "duration": 31,
    "start_time": "2021-12-19T12:50:01.668Z"
   },
   {
    "duration": 35,
    "start_time": "2021-12-19T12:50:01.702Z"
   },
   {
    "duration": 228,
    "start_time": "2021-12-19T12:50:01.739Z"
   },
   {
    "duration": 20,
    "start_time": "2021-12-19T12:50:01.971Z"
   },
   {
    "duration": 33,
    "start_time": "2021-12-19T12:50:01.995Z"
   },
   {
    "duration": 50,
    "start_time": "2021-12-19T12:50:02.031Z"
   },
   {
    "duration": 31,
    "start_time": "2021-12-19T12:50:02.084Z"
   },
   {
    "duration": 34,
    "start_time": "2021-12-19T12:50:02.118Z"
   },
   {
    "duration": 66,
    "start_time": "2021-12-19T12:50:02.154Z"
   },
   {
    "duration": 551,
    "start_time": "2021-12-19T12:50:02.224Z"
   },
   {
    "duration": 457,
    "start_time": "2021-12-19T12:50:02.778Z"
   },
   {
    "duration": 6,
    "start_time": "2021-12-19T12:50:03.237Z"
   },
   {
    "duration": 86,
    "start_time": "2021-12-19T12:50:03.246Z"
   },
   {
    "duration": 27,
    "start_time": "2021-12-19T12:50:03.335Z"
   },
   {
    "duration": 628,
    "start_time": "2021-12-19T12:50:03.365Z"
   },
   {
    "duration": 40,
    "start_time": "2021-12-19T12:50:03.995Z"
   },
   {
    "duration": 836,
    "start_time": "2021-12-19T12:50:04.038Z"
   },
   {
    "duration": 23,
    "start_time": "2021-12-19T12:50:04.877Z"
   },
   {
    "duration": 74,
    "start_time": "2021-12-19T12:50:04.902Z"
   },
   {
    "duration": 627,
    "start_time": "2021-12-19T12:50:04.979Z"
   },
   {
    "duration": 56,
    "start_time": "2021-12-19T12:50:05.609Z"
   },
   {
    "duration": 420,
    "start_time": "2021-12-19T12:50:05.670Z"
   },
   {
    "duration": 1659,
    "start_time": "2021-12-19T12:50:06.093Z"
   },
   {
    "duration": 39,
    "start_time": "2021-12-19T12:50:07.754Z"
   },
   {
    "duration": 572,
    "start_time": "2021-12-19T12:50:07.795Z"
   },
   {
    "duration": 6,
    "start_time": "2021-12-19T12:51:55.905Z"
   },
   {
    "duration": 6,
    "start_time": "2021-12-19T12:53:51.877Z"
   },
   {
    "duration": 83,
    "start_time": "2021-12-19T12:55:23.257Z"
   },
   {
    "duration": 90,
    "start_time": "2021-12-19T12:55:24.180Z"
   },
   {
    "duration": 4,
    "start_time": "2021-12-19T12:55:32.334Z"
   },
   {
    "duration": 5,
    "start_time": "2021-12-19T12:55:37.655Z"
   },
   {
    "duration": 5,
    "start_time": "2021-12-19T13:03:03.281Z"
   },
   {
    "duration": 17,
    "start_time": "2021-12-19T13:06:03.714Z"
   },
   {
    "duration": 9,
    "start_time": "2021-12-19T13:08:26.785Z"
   },
   {
    "duration": 5,
    "start_time": "2021-12-19T13:08:39.871Z"
   },
   {
    "duration": 6,
    "start_time": "2021-12-19T13:08:40.567Z"
   },
   {
    "duration": 196,
    "start_time": "2021-12-19T13:08:43.928Z"
   },
   {
    "duration": 199,
    "start_time": "2021-12-19T13:11:59.818Z"
   },
   {
    "duration": 553,
    "start_time": "2021-12-19T13:12:44.538Z"
   },
   {
    "duration": 12,
    "start_time": "2021-12-19T13:21:48.607Z"
   },
   {
    "duration": 966,
    "start_time": "2021-12-19T13:21:53.806Z"
   },
   {
    "duration": 9,
    "start_time": "2021-12-19T13:23:19.223Z"
   },
   {
    "duration": 623,
    "start_time": "2021-12-19T13:23:23.609Z"
   },
   {
    "duration": 273,
    "start_time": "2021-12-19T13:24:37.354Z"
   },
   {
    "duration": 192,
    "start_time": "2021-12-19T13:25:45.285Z"
   },
   {
    "duration": 547,
    "start_time": "2021-12-19T13:26:44.097Z"
   },
   {
    "duration": 194,
    "start_time": "2021-12-19T13:29:37.723Z"
   },
   {
    "duration": 188,
    "start_time": "2021-12-19T13:32:19.799Z"
   },
   {
    "duration": 533,
    "start_time": "2021-12-19T13:33:35.694Z"
   },
   {
    "duration": 81,
    "start_time": "2021-12-19T13:44:07.333Z"
   },
   {
    "duration": 577,
    "start_time": "2021-12-19T13:48:32.904Z"
   },
   {
    "duration": 392,
    "start_time": "2021-12-19T13:49:59.198Z"
   },
   {
    "duration": 28,
    "start_time": "2021-12-19T13:51:04.198Z"
   },
   {
    "duration": 467,
    "start_time": "2021-12-19T14:24:00.296Z"
   },
   {
    "duration": 21,
    "start_time": "2021-12-19T14:24:07.347Z"
   },
   {
    "duration": 22,
    "start_time": "2021-12-19T14:27:00.704Z"
   },
   {
    "duration": 5,
    "start_time": "2021-12-19T14:35:52.687Z"
   },
   {
    "duration": 1516,
    "start_time": "2021-12-19T14:36:01.537Z"
   },
   {
    "duration": 49,
    "start_time": "2021-12-19T14:36:03.056Z"
   },
   {
    "duration": 51,
    "start_time": "2021-12-19T14:36:03.114Z"
   },
   {
    "duration": 26,
    "start_time": "2021-12-19T14:36:03.168Z"
   },
   {
    "duration": 4,
    "start_time": "2021-12-19T14:36:03.196Z"
   },
   {
    "duration": 13,
    "start_time": "2021-12-19T14:36:03.202Z"
   },
   {
    "duration": 65,
    "start_time": "2021-12-19T14:36:03.218Z"
   },
   {
    "duration": 210,
    "start_time": "2021-12-19T14:36:03.287Z"
   },
   {
    "duration": 13,
    "start_time": "2021-12-19T14:36:03.501Z"
   },
   {
    "duration": 6,
    "start_time": "2021-12-19T14:36:03.517Z"
   },
   {
    "duration": 45,
    "start_time": "2021-12-19T14:36:03.525Z"
   },
   {
    "duration": 7,
    "start_time": "2021-12-19T14:36:03.573Z"
   },
   {
    "duration": 7,
    "start_time": "2021-12-19T14:36:03.582Z"
   },
   {
    "duration": 31,
    "start_time": "2021-12-19T14:36:03.591Z"
   },
   {
    "duration": 555,
    "start_time": "2021-12-19T14:36:03.624Z"
   },
   {
    "duration": 430,
    "start_time": "2021-12-19T14:36:04.182Z"
   },
   {
    "duration": 7,
    "start_time": "2021-12-19T14:36:04.614Z"
   },
   {
    "duration": 93,
    "start_time": "2021-12-19T14:36:04.623Z"
   },
   {
    "duration": 9,
    "start_time": "2021-12-19T14:36:04.719Z"
   },
   {
    "duration": 654,
    "start_time": "2021-12-19T14:36:04.730Z"
   },
   {
    "duration": 42,
    "start_time": "2021-12-19T14:36:05.386Z"
   },
   {
    "duration": 742,
    "start_time": "2021-12-19T14:36:05.431Z"
   },
   {
    "duration": 26,
    "start_time": "2021-12-19T14:36:06.175Z"
   },
   {
    "duration": 82,
    "start_time": "2021-12-19T14:36:06.204Z"
   },
   {
    "duration": 677,
    "start_time": "2021-12-19T14:36:06.289Z"
   },
   {
    "duration": 42,
    "start_time": "2021-12-19T14:36:06.973Z"
   },
   {
    "duration": 436,
    "start_time": "2021-12-19T14:36:07.018Z"
   },
   {
    "duration": 1831,
    "start_time": "2021-12-19T14:36:07.457Z"
   },
   {
    "duration": 38,
    "start_time": "2021-12-19T14:36:09.290Z"
   },
   {
    "duration": 582,
    "start_time": "2021-12-19T14:36:09.330Z"
   },
   {
    "duration": 5,
    "start_time": "2021-12-19T14:36:09.914Z"
   },
   {
    "duration": 29,
    "start_time": "2021-12-19T14:36:09.921Z"
   },
   {
    "duration": 48,
    "start_time": "2021-12-19T14:36:09.953Z"
   },
   {
    "duration": 231,
    "start_time": "2021-12-19T14:36:10.004Z"
   },
   {
    "duration": 211,
    "start_time": "2021-12-19T14:36:10.238Z"
   },
   {
    "duration": 546,
    "start_time": "2021-12-19T14:36:10.451Z"
   },
   {
    "duration": 219,
    "start_time": "2021-12-19T14:36:11.000Z"
   },
   {
    "duration": 211,
    "start_time": "2021-12-19T14:36:11.222Z"
   },
   {
    "duration": 558,
    "start_time": "2021-12-19T14:36:11.436Z"
   },
   {
    "duration": 289,
    "start_time": "2021-12-19T14:36:11.997Z"
   },
   {
    "duration": 209,
    "start_time": "2021-12-19T14:36:12.288Z"
   },
   {
    "duration": 600,
    "start_time": "2021-12-19T14:36:12.500Z"
   },
   {
    "duration": 24,
    "start_time": "2021-12-19T14:36:13.103Z"
   },
   {
    "duration": 47,
    "start_time": "2021-12-19T14:36:13.130Z"
   },
   {
    "duration": 1746,
    "start_time": "2021-12-19T14:40:08.659Z"
   },
   {
    "duration": 49,
    "start_time": "2021-12-19T14:40:10.409Z"
   },
   {
    "duration": 37,
    "start_time": "2021-12-19T14:40:10.463Z"
   },
   {
    "duration": 23,
    "start_time": "2021-12-19T14:40:10.503Z"
   },
   {
    "duration": 34,
    "start_time": "2021-12-19T14:40:10.529Z"
   },
   {
    "duration": 44,
    "start_time": "2021-12-19T14:40:10.566Z"
   },
   {
    "duration": 60,
    "start_time": "2021-12-19T14:40:10.612Z"
   },
   {
    "duration": 217,
    "start_time": "2021-12-19T14:40:10.675Z"
   },
   {
    "duration": 13,
    "start_time": "2021-12-19T14:40:10.896Z"
   },
   {
    "duration": 22,
    "start_time": "2021-12-19T14:40:10.912Z"
   },
   {
    "duration": 30,
    "start_time": "2021-12-19T14:40:10.936Z"
   },
   {
    "duration": 50,
    "start_time": "2021-12-19T14:40:10.969Z"
   },
   {
    "duration": 6,
    "start_time": "2021-12-19T14:40:11.022Z"
   },
   {
    "duration": 60,
    "start_time": "2021-12-19T14:40:11.030Z"
   },
   {
    "duration": 518,
    "start_time": "2021-12-19T14:40:11.092Z"
   },
   {
    "duration": 437,
    "start_time": "2021-12-19T14:40:11.613Z"
   },
   {
    "duration": 10,
    "start_time": "2021-12-19T14:40:12.052Z"
   },
   {
    "duration": 99,
    "start_time": "2021-12-19T14:40:12.065Z"
   },
   {
    "duration": 10,
    "start_time": "2021-12-19T14:40:12.166Z"
   },
   {
    "duration": 637,
    "start_time": "2021-12-19T14:40:12.179Z"
   },
   {
    "duration": 68,
    "start_time": "2021-12-19T14:40:12.819Z"
   },
   {
    "duration": 728,
    "start_time": "2021-12-19T14:40:12.890Z"
   },
   {
    "duration": 47,
    "start_time": "2021-12-19T14:40:13.621Z"
   },
   {
    "duration": 51,
    "start_time": "2021-12-19T14:40:13.670Z"
   },
   {
    "duration": 604,
    "start_time": "2021-12-19T14:40:13.724Z"
   },
   {
    "duration": 59,
    "start_time": "2021-12-19T14:40:14.331Z"
   },
   {
    "duration": 470,
    "start_time": "2021-12-19T14:40:14.395Z"
   },
   {
    "duration": 2096,
    "start_time": "2021-12-19T14:40:14.868Z"
   },
   {
    "duration": 43,
    "start_time": "2021-12-19T14:40:16.969Z"
   },
   {
    "duration": 653,
    "start_time": "2021-12-19T14:40:17.015Z"
   },
   {
    "duration": 6,
    "start_time": "2021-12-19T14:40:17.672Z"
   },
   {
    "duration": 23,
    "start_time": "2021-12-19T14:40:17.682Z"
   },
   {
    "duration": 27,
    "start_time": "2021-12-19T14:40:17.708Z"
   },
   {
    "duration": 271,
    "start_time": "2021-12-19T14:40:17.738Z"
   },
   {
    "duration": 241,
    "start_time": "2021-12-19T14:40:18.011Z"
   },
   {
    "duration": 592,
    "start_time": "2021-12-19T14:40:18.254Z"
   },
   {
    "duration": 233,
    "start_time": "2021-12-19T14:40:18.849Z"
   },
   {
    "duration": 217,
    "start_time": "2021-12-19T14:40:19.084Z"
   },
   {
    "duration": 621,
    "start_time": "2021-12-19T14:40:19.304Z"
   },
   {
    "duration": 350,
    "start_time": "2021-12-19T14:40:19.928Z"
   },
   {
    "duration": 237,
    "start_time": "2021-12-19T14:40:20.281Z"
   },
   {
    "duration": 615,
    "start_time": "2021-12-19T14:40:20.521Z"
   },
   {
    "duration": 44,
    "start_time": "2021-12-19T14:40:21.139Z"
   },
   {
    "duration": 61,
    "start_time": "2021-12-19T14:40:21.185Z"
   },
   {
    "duration": 1509,
    "start_time": "2021-12-20T12:14:20.573Z"
   },
   {
    "duration": 48,
    "start_time": "2021-12-20T12:14:22.084Z"
   },
   {
    "duration": 37,
    "start_time": "2021-12-20T12:14:22.136Z"
   },
   {
    "duration": 25,
    "start_time": "2021-12-20T12:14:22.177Z"
   },
   {
    "duration": 4,
    "start_time": "2021-12-20T12:14:22.218Z"
   },
   {
    "duration": 39,
    "start_time": "2021-12-20T12:14:22.225Z"
   },
   {
    "duration": 38,
    "start_time": "2021-12-20T12:14:22.267Z"
   },
   {
    "duration": 8,
    "start_time": "2021-12-20T12:14:22.307Z"
   },
   {
    "duration": 256,
    "start_time": "2021-12-20T12:14:22.319Z"
   },
   {
    "duration": 14,
    "start_time": "2021-12-20T12:14:22.578Z"
   },
   {
    "duration": 6,
    "start_time": "2021-12-20T12:14:22.594Z"
   },
   {
    "duration": 13,
    "start_time": "2021-12-20T12:14:22.602Z"
   },
   {
    "duration": 29,
    "start_time": "2021-12-20T12:14:22.618Z"
   },
   {
    "duration": 7,
    "start_time": "2021-12-20T12:14:22.663Z"
   },
   {
    "duration": 33,
    "start_time": "2021-12-20T12:14:22.673Z"
   },
   {
    "duration": 559,
    "start_time": "2021-12-20T12:14:22.709Z"
   },
   {
    "duration": 428,
    "start_time": "2021-12-20T12:14:23.271Z"
   },
   {
    "duration": 7,
    "start_time": "2021-12-20T12:14:23.702Z"
   },
   {
    "duration": 98,
    "start_time": "2021-12-20T12:14:23.711Z"
   },
   {
    "duration": 10,
    "start_time": "2021-12-20T12:14:23.811Z"
   },
   {
    "duration": 654,
    "start_time": "2021-12-20T12:14:23.823Z"
   },
   {
    "duration": 41,
    "start_time": "2021-12-20T12:14:24.480Z"
   },
   {
    "duration": 827,
    "start_time": "2021-12-20T12:14:24.523Z"
   },
   {
    "duration": 28,
    "start_time": "2021-12-20T12:14:25.353Z"
   },
   {
    "duration": 45,
    "start_time": "2021-12-20T12:14:25.384Z"
   },
   {
    "duration": 593,
    "start_time": "2021-12-20T12:14:25.431Z"
   },
   {
    "duration": 56,
    "start_time": "2021-12-20T12:14:26.031Z"
   },
   {
    "duration": 422,
    "start_time": "2021-12-20T12:14:26.091Z"
   },
   {
    "duration": 1704,
    "start_time": "2021-12-20T12:14:26.516Z"
   },
   {
    "duration": 54,
    "start_time": "2021-12-20T12:14:28.223Z"
   },
   {
    "duration": 566,
    "start_time": "2021-12-20T12:14:28.280Z"
   },
   {
    "duration": 14,
    "start_time": "2021-12-20T12:14:28.849Z"
   },
   {
    "duration": 8,
    "start_time": "2021-12-20T12:14:28.866Z"
   },
   {
    "duration": 10,
    "start_time": "2021-12-20T12:14:28.876Z"
   },
   {
    "duration": 227,
    "start_time": "2021-12-20T12:14:28.888Z"
   },
   {
    "duration": 215,
    "start_time": "2021-12-20T12:14:29.117Z"
   },
   {
    "duration": 560,
    "start_time": "2021-12-20T12:14:29.334Z"
   },
   {
    "duration": 207,
    "start_time": "2021-12-20T12:14:29.897Z"
   },
   {
    "duration": 208,
    "start_time": "2021-12-20T12:14:30.107Z"
   },
   {
    "duration": 667,
    "start_time": "2021-12-20T12:14:30.317Z"
   },
   {
    "duration": 308,
    "start_time": "2021-12-20T12:14:30.987Z"
   },
   {
    "duration": 205,
    "start_time": "2021-12-20T12:14:31.297Z"
   },
   {
    "duration": 631,
    "start_time": "2021-12-20T12:14:31.505Z"
   },
   {
    "duration": 30,
    "start_time": "2021-12-20T12:14:32.139Z"
   },
   {
    "duration": 44,
    "start_time": "2021-12-20T12:14:32.173Z"
   },
   {
    "duration": 42,
    "start_time": "2021-12-20T12:20:37.255Z"
   },
   {
    "duration": 1788,
    "start_time": "2021-12-20T12:34:29.806Z"
   },
   {
    "duration": 167,
    "start_time": "2021-12-20T12:34:31.598Z"
   },
   {
    "duration": 38,
    "start_time": "2021-12-20T12:34:31.768Z"
   },
   {
    "duration": 25,
    "start_time": "2021-12-20T12:34:31.809Z"
   },
   {
    "duration": 4,
    "start_time": "2021-12-20T12:34:31.864Z"
   },
   {
    "duration": 31,
    "start_time": "2021-12-20T12:34:31.873Z"
   },
   {
    "duration": 57,
    "start_time": "2021-12-20T12:34:31.908Z"
   },
   {
    "duration": 212,
    "start_time": "2021-12-20T12:34:31.969Z"
   },
   {
    "duration": 15,
    "start_time": "2021-12-20T12:34:32.184Z"
   },
   {
    "duration": 18,
    "start_time": "2021-12-20T12:34:32.202Z"
   },
   {
    "duration": 29,
    "start_time": "2021-12-20T12:34:32.222Z"
   },
   {
    "duration": 51,
    "start_time": "2021-12-20T12:34:32.254Z"
   },
   {
    "duration": 14,
    "start_time": "2021-12-20T12:34:32.308Z"
   },
   {
    "duration": 60,
    "start_time": "2021-12-20T12:34:32.325Z"
   },
   {
    "duration": 745,
    "start_time": "2021-12-20T12:34:32.388Z"
   },
   {
    "duration": 435,
    "start_time": "2021-12-20T12:34:33.136Z"
   },
   {
    "duration": 9,
    "start_time": "2021-12-20T12:34:33.575Z"
   },
   {
    "duration": 94,
    "start_time": "2021-12-20T12:34:33.591Z"
   },
   {
    "duration": 12,
    "start_time": "2021-12-20T12:34:33.689Z"
   },
   {
    "duration": 636,
    "start_time": "2021-12-20T12:34:33.704Z"
   },
   {
    "duration": 53,
    "start_time": "2021-12-20T12:34:34.342Z"
   },
   {
    "duration": 773,
    "start_time": "2021-12-20T12:34:34.397Z"
   },
   {
    "duration": 32,
    "start_time": "2021-12-20T12:34:35.173Z"
   },
   {
    "duration": 73,
    "start_time": "2021-12-20T12:34:35.208Z"
   },
   {
    "duration": 856,
    "start_time": "2021-12-20T12:34:35.284Z"
   },
   {
    "duration": 52,
    "start_time": "2021-12-20T12:34:36.144Z"
   },
   {
    "duration": 429,
    "start_time": "2021-12-20T12:34:36.199Z"
   },
   {
    "duration": 2591,
    "start_time": "2021-12-20T12:34:36.632Z"
   },
   {
    "duration": 50,
    "start_time": "2021-12-20T12:34:39.226Z"
   },
   {
    "duration": 579,
    "start_time": "2021-12-20T12:34:39.279Z"
   },
   {
    "duration": 5,
    "start_time": "2021-12-20T12:34:39.864Z"
   },
   {
    "duration": 25,
    "start_time": "2021-12-20T12:34:39.872Z"
   },
   {
    "duration": 18,
    "start_time": "2021-12-20T12:34:39.900Z"
   },
   {
    "duration": 214,
    "start_time": "2021-12-20T12:34:39.921Z"
   },
   {
    "duration": 209,
    "start_time": "2021-12-20T12:34:40.137Z"
   },
   {
    "duration": 754,
    "start_time": "2021-12-20T12:34:40.349Z"
   },
   {
    "duration": 218,
    "start_time": "2021-12-20T12:34:41.106Z"
   },
   {
    "duration": 228,
    "start_time": "2021-12-20T12:34:41.326Z"
   },
   {
    "duration": 558,
    "start_time": "2021-12-20T12:34:41.562Z"
   },
   {
    "duration": 296,
    "start_time": "2021-12-20T12:34:42.122Z"
   },
   {
    "duration": 215,
    "start_time": "2021-12-20T12:34:42.421Z"
   },
   {
    "duration": 568,
    "start_time": "2021-12-20T12:34:42.639Z"
   },
   {
    "duration": 22,
    "start_time": "2021-12-20T12:34:43.210Z"
   },
   {
    "duration": 44,
    "start_time": "2021-12-20T12:34:43.235Z"
   },
   {
    "duration": 1471,
    "start_time": "2022-01-20T07:25:25.390Z"
   },
   {
    "duration": 2834,
    "start_time": "2022-01-20T07:25:26.864Z"
   },
   {
    "duration": -177,
    "start_time": "2022-01-20T07:25:29.883Z"
   },
   {
    "duration": -189,
    "start_time": "2022-01-20T07:25:29.897Z"
   },
   {
    "duration": -193,
    "start_time": "2022-01-20T07:25:29.903Z"
   },
   {
    "duration": -202,
    "start_time": "2022-01-20T07:25:29.915Z"
   },
   {
    "duration": -206,
    "start_time": "2022-01-20T07:25:29.921Z"
   },
   {
    "duration": -218,
    "start_time": "2022-01-20T07:25:29.935Z"
   },
   {
    "duration": -229,
    "start_time": "2022-01-20T07:25:29.948Z"
   },
   {
    "duration": -231,
    "start_time": "2022-01-20T07:25:29.953Z"
   },
   {
    "duration": -243,
    "start_time": "2022-01-20T07:25:29.967Z"
   },
   {
    "duration": -245,
    "start_time": "2022-01-20T07:25:29.971Z"
   },
   {
    "duration": -255,
    "start_time": "2022-01-20T07:25:29.983Z"
   },
   {
    "duration": -258,
    "start_time": "2022-01-20T07:25:29.988Z"
   },
   {
    "duration": -268,
    "start_time": "2022-01-20T07:25:30.000Z"
   },
   {
    "duration": -271,
    "start_time": "2022-01-20T07:25:30.005Z"
   },
   {
    "duration": -281,
    "start_time": "2022-01-20T07:25:30.017Z"
   },
   {
    "duration": -284,
    "start_time": "2022-01-20T07:25:30.022Z"
   },
   {
    "duration": -293,
    "start_time": "2022-01-20T07:25:30.061Z"
   },
   {
    "duration": -302,
    "start_time": "2022-01-20T07:25:30.072Z"
   },
   {
    "duration": -310,
    "start_time": "2022-01-20T07:25:30.082Z"
   },
   {
    "duration": -314,
    "start_time": "2022-01-20T07:25:30.087Z"
   },
   {
    "duration": -323,
    "start_time": "2022-01-20T07:25:30.098Z"
   },
   {
    "duration": -326,
    "start_time": "2022-01-20T07:25:30.103Z"
   },
   {
    "duration": -335,
    "start_time": "2022-01-20T07:25:30.114Z"
   },
   {
    "duration": -337,
    "start_time": "2022-01-20T07:25:30.118Z"
   },
   {
    "duration": -340,
    "start_time": "2022-01-20T07:25:30.123Z"
   },
   {
    "duration": -342,
    "start_time": "2022-01-20T07:25:30.127Z"
   },
   {
    "duration": -344,
    "start_time": "2022-01-20T07:25:30.130Z"
   },
   {
    "duration": -346,
    "start_time": "2022-01-20T07:25:30.134Z"
   },
   {
    "duration": -348,
    "start_time": "2022-01-20T07:25:30.138Z"
   },
   {
    "duration": -351,
    "start_time": "2022-01-20T07:25:30.142Z"
   },
   {
    "duration": -352,
    "start_time": "2022-01-20T07:25:30.145Z"
   },
   {
    "duration": -355,
    "start_time": "2022-01-20T07:25:30.149Z"
   },
   {
    "duration": -356,
    "start_time": "2022-01-20T07:25:30.152Z"
   },
   {
    "duration": -359,
    "start_time": "2022-01-20T07:25:30.156Z"
   },
   {
    "duration": -361,
    "start_time": "2022-01-20T07:25:30.160Z"
   },
   {
    "duration": -363,
    "start_time": "2022-01-20T07:25:30.163Z"
   },
   {
    "duration": -364,
    "start_time": "2022-01-20T07:25:30.166Z"
   },
   {
    "duration": -367,
    "start_time": "2022-01-20T07:25:30.170Z"
   },
   {
    "duration": -369,
    "start_time": "2022-01-20T07:25:30.174Z"
   },
   {
    "duration": -371,
    "start_time": "2022-01-20T07:25:30.178Z"
   },
   {
    "duration": -312,
    "start_time": "2022-01-20T07:25:30.181Z"
   },
   {
    "duration": -314,
    "start_time": "2022-01-20T07:25:30.185Z"
   },
   {
    "duration": -317,
    "start_time": "2022-01-20T07:25:30.189Z"
   },
   {
    "duration": -318,
    "start_time": "2022-01-20T07:25:30.192Z"
   },
   {
    "duration": 47,
    "start_time": "2022-01-20T07:25:50.122Z"
   },
   {
    "duration": 1542,
    "start_time": "2022-01-20T07:25:54.801Z"
   },
   {
    "duration": 49,
    "start_time": "2022-01-20T07:25:56.345Z"
   },
   {
    "duration": 34,
    "start_time": "2022-01-20T07:25:56.397Z"
   },
   {
    "duration": 48,
    "start_time": "2022-01-20T07:25:56.433Z"
   },
   {
    "duration": 4,
    "start_time": "2022-01-20T07:25:56.483Z"
   },
   {
    "duration": 16,
    "start_time": "2022-01-20T07:25:56.489Z"
   },
   {
    "duration": 31,
    "start_time": "2022-01-20T07:25:56.507Z"
   },
   {
    "duration": 28,
    "start_time": "2022-01-20T07:25:56.542Z"
   },
   {
    "duration": 14,
    "start_time": "2022-01-20T07:25:56.574Z"
   },
   {
    "duration": 6,
    "start_time": "2022-01-20T07:25:56.591Z"
   },
   {
    "duration": 22,
    "start_time": "2022-01-20T07:25:56.599Z"
   },
   {
    "duration": 21,
    "start_time": "2022-01-20T07:25:56.623Z"
   },
   {
    "duration": 26,
    "start_time": "2022-01-20T07:25:56.646Z"
   },
   {
    "duration": 33,
    "start_time": "2022-01-20T07:25:56.674Z"
   },
   {
    "duration": 548,
    "start_time": "2022-01-20T07:25:56.709Z"
   },
   {
    "duration": 429,
    "start_time": "2022-01-20T07:25:57.268Z"
   },
   {
    "duration": 6,
    "start_time": "2022-01-20T07:25:57.700Z"
   },
   {
    "duration": 92,
    "start_time": "2022-01-20T07:25:57.709Z"
   },
   {
    "duration": 11,
    "start_time": "2022-01-20T07:25:57.803Z"
   },
   {
    "duration": 623,
    "start_time": "2022-01-20T07:25:57.816Z"
   },
   {
    "duration": 53,
    "start_time": "2022-01-20T07:25:58.442Z"
   },
   {
    "duration": 748,
    "start_time": "2022-01-20T07:25:58.498Z"
   },
   {
    "duration": 36,
    "start_time": "2022-01-20T07:25:59.254Z"
   },
   {
    "duration": 45,
    "start_time": "2022-01-20T07:25:59.294Z"
   },
   {
    "duration": 596,
    "start_time": "2022-01-20T07:25:59.341Z"
   },
   {
    "duration": 52,
    "start_time": "2022-01-20T07:25:59.941Z"
   },
   {
    "duration": 487,
    "start_time": "2022-01-20T07:25:59.996Z"
   },
   {
    "duration": 1658,
    "start_time": "2022-01-20T07:26:00.485Z"
   },
   {
    "duration": 51,
    "start_time": "2022-01-20T07:26:02.145Z"
   },
   {
    "duration": 563,
    "start_time": "2022-01-20T07:26:02.198Z"
   },
   {
    "duration": 5,
    "start_time": "2022-01-20T07:26:02.768Z"
   },
   {
    "duration": 15,
    "start_time": "2022-01-20T07:26:02.775Z"
   },
   {
    "duration": 10,
    "start_time": "2022-01-20T07:26:02.792Z"
   },
   {
    "duration": 210,
    "start_time": "2022-01-20T07:26:02.804Z"
   },
   {
    "duration": 203,
    "start_time": "2022-01-20T07:26:03.016Z"
   },
   {
    "duration": 549,
    "start_time": "2022-01-20T07:26:03.221Z"
   },
   {
    "duration": 203,
    "start_time": "2022-01-20T07:26:03.773Z"
   },
   {
    "duration": 209,
    "start_time": "2022-01-20T07:26:03.978Z"
   },
   {
    "duration": 653,
    "start_time": "2022-01-20T07:26:04.190Z"
   },
   {
    "duration": 210,
    "start_time": "2022-01-20T07:26:04.845Z"
   },
   {
    "duration": 206,
    "start_time": "2022-01-20T07:26:05.058Z"
   },
   {
    "duration": 631,
    "start_time": "2022-01-20T07:26:05.270Z"
   },
   {
    "duration": 22,
    "start_time": "2022-01-20T07:26:05.904Z"
   },
   {
    "duration": 26,
    "start_time": "2022-01-20T07:26:05.929Z"
   },
   {
    "duration": 23,
    "start_time": "2022-01-20T07:26:05.970Z"
   },
   {
    "duration": 28,
    "start_time": "2022-01-20T07:26:05.996Z"
   },
   {
    "duration": 1780,
    "start_time": "2022-01-20T07:58:40.977Z"
   },
   {
    "duration": 49,
    "start_time": "2022-01-20T07:58:42.760Z"
   },
   {
    "duration": 34,
    "start_time": "2022-01-20T07:58:42.813Z"
   },
   {
    "duration": 31,
    "start_time": "2022-01-20T07:58:42.870Z"
   },
   {
    "duration": 5,
    "start_time": "2022-01-20T07:58:42.904Z"
   },
   {
    "duration": 13,
    "start_time": "2022-01-20T07:58:42.911Z"
   },
   {
    "duration": 67,
    "start_time": "2022-01-20T07:58:42.926Z"
   },
   {
    "duration": 3,
    "start_time": "2022-01-20T07:58:42.998Z"
   },
   {
    "duration": 17,
    "start_time": "2022-01-20T07:58:43.005Z"
   },
   {
    "duration": 7,
    "start_time": "2022-01-20T07:58:43.024Z"
   },
   {
    "duration": 46,
    "start_time": "2022-01-20T07:58:43.033Z"
   },
   {
    "duration": 14,
    "start_time": "2022-01-20T07:58:43.081Z"
   },
   {
    "duration": 6,
    "start_time": "2022-01-20T07:58:43.097Z"
   },
   {
    "duration": 35,
    "start_time": "2022-01-20T07:58:43.105Z"
   },
   {
    "duration": 536,
    "start_time": "2022-01-20T07:58:43.142Z"
   },
   {
    "duration": 563,
    "start_time": "2022-01-20T07:58:43.681Z"
   },
   {
    "duration": 21,
    "start_time": "2022-01-20T07:58:44.248Z"
   },
   {
    "duration": 74,
    "start_time": "2022-01-20T07:58:44.271Z"
   },
   {
    "duration": 27,
    "start_time": "2022-01-20T07:58:44.347Z"
   },
   {
    "duration": 608,
    "start_time": "2022-01-20T07:58:44.377Z"
   },
   {
    "duration": 43,
    "start_time": "2022-01-20T07:58:44.988Z"
   },
   {
    "duration": 760,
    "start_time": "2022-01-20T07:58:45.033Z"
   },
   {
    "duration": 22,
    "start_time": "2022-01-20T07:58:45.799Z"
   },
   {
    "duration": 80,
    "start_time": "2022-01-20T07:58:45.824Z"
   },
   {
    "duration": 777,
    "start_time": "2022-01-20T07:58:45.907Z"
   },
   {
    "duration": 41,
    "start_time": "2022-01-20T07:58:46.688Z"
   },
   {
    "duration": 427,
    "start_time": "2022-01-20T07:58:46.732Z"
   },
   {
    "duration": 1567,
    "start_time": "2022-01-20T07:58:47.162Z"
   },
   {
    "duration": 55,
    "start_time": "2022-01-20T07:58:48.732Z"
   },
   {
    "duration": 591,
    "start_time": "2022-01-20T07:58:48.789Z"
   },
   {
    "duration": 5,
    "start_time": "2022-01-20T07:58:49.382Z"
   },
   {
    "duration": 8,
    "start_time": "2022-01-20T07:58:49.389Z"
   },
   {
    "duration": 12,
    "start_time": "2022-01-20T07:58:49.400Z"
   },
   {
    "duration": 225,
    "start_time": "2022-01-20T07:58:49.415Z"
   },
   {
    "duration": 205,
    "start_time": "2022-01-20T07:58:49.642Z"
   },
   {
    "duration": 547,
    "start_time": "2022-01-20T07:58:49.849Z"
   },
   {
    "duration": 215,
    "start_time": "2022-01-20T07:58:50.398Z"
   },
   {
    "duration": 219,
    "start_time": "2022-01-20T07:58:50.616Z"
   },
   {
    "duration": 601,
    "start_time": "2022-01-20T07:58:50.838Z"
   },
   {
    "duration": 292,
    "start_time": "2022-01-20T07:58:51.442Z"
   },
   {
    "duration": 206,
    "start_time": "2022-01-20T07:58:51.737Z"
   },
   {
    "duration": 554,
    "start_time": "2022-01-20T07:58:51.945Z"
   },
   {
    "duration": 21,
    "start_time": "2022-01-20T07:58:52.501Z"
   },
   {
    "duration": 47,
    "start_time": "2022-01-20T07:58:52.525Z"
   },
   {
    "duration": 22,
    "start_time": "2022-01-20T07:58:52.575Z"
   },
   {
    "duration": 22,
    "start_time": "2022-01-20T07:58:52.600Z"
   },
   {
    "duration": 1625,
    "start_time": "2022-01-20T08:00:29.041Z"
   },
   {
    "duration": 51,
    "start_time": "2022-01-20T08:00:30.670Z"
   },
   {
    "duration": 55,
    "start_time": "2022-01-20T08:00:30.724Z"
   },
   {
    "duration": 23,
    "start_time": "2022-01-20T08:00:30.781Z"
   },
   {
    "duration": 5,
    "start_time": "2022-01-20T08:00:30.807Z"
   },
   {
    "duration": 19,
    "start_time": "2022-01-20T08:00:30.814Z"
   },
   {
    "duration": 59,
    "start_time": "2022-01-20T08:00:30.835Z"
   },
   {
    "duration": 3,
    "start_time": "2022-01-20T08:00:30.898Z"
   },
   {
    "duration": 26,
    "start_time": "2022-01-20T08:00:30.904Z"
   },
   {
    "duration": 36,
    "start_time": "2022-01-20T08:00:30.933Z"
   },
   {
    "duration": 21,
    "start_time": "2022-01-20T08:00:30.972Z"
   },
   {
    "duration": 17,
    "start_time": "2022-01-20T08:00:30.996Z"
   },
   {
    "duration": 10,
    "start_time": "2022-01-20T08:00:31.016Z"
   },
   {
    "duration": 78,
    "start_time": "2022-01-20T08:00:31.029Z"
   },
   {
    "duration": 529,
    "start_time": "2022-01-20T08:00:31.111Z"
   },
   {
    "duration": 429,
    "start_time": "2022-01-20T08:00:31.643Z"
   },
   {
    "duration": 8,
    "start_time": "2022-01-20T08:00:32.076Z"
   },
   {
    "duration": 98,
    "start_time": "2022-01-20T08:00:32.087Z"
   },
   {
    "duration": 12,
    "start_time": "2022-01-20T08:00:32.188Z"
   },
   {
    "duration": 733,
    "start_time": "2022-01-20T08:00:32.203Z"
   },
   {
    "duration": 60,
    "start_time": "2022-01-20T08:00:32.938Z"
   },
   {
    "duration": 774,
    "start_time": "2022-01-20T08:00:33.000Z"
   },
   {
    "duration": 24,
    "start_time": "2022-01-20T08:00:33.779Z"
   },
   {
    "duration": 88,
    "start_time": "2022-01-20T08:00:33.806Z"
   },
   {
    "duration": 649,
    "start_time": "2022-01-20T08:00:33.896Z"
   },
   {
    "duration": 53,
    "start_time": "2022-01-20T08:00:34.548Z"
   },
   {
    "duration": 589,
    "start_time": "2022-01-20T08:00:34.603Z"
   },
   {
    "duration": 1995,
    "start_time": "2022-01-20T08:00:35.196Z"
   },
   {
    "duration": 46,
    "start_time": "2022-01-20T08:00:37.194Z"
   },
   {
    "duration": 769,
    "start_time": "2022-01-20T08:00:37.243Z"
   },
   {
    "duration": 7,
    "start_time": "2022-01-20T08:00:38.015Z"
   },
   {
    "duration": 6,
    "start_time": "2022-01-20T08:00:38.025Z"
   },
   {
    "duration": 37,
    "start_time": "2022-01-20T08:00:38.035Z"
   },
   {
    "duration": 202,
    "start_time": "2022-01-20T08:00:38.075Z"
   },
   {
    "duration": 215,
    "start_time": "2022-01-20T08:00:38.280Z"
   },
   {
    "duration": 543,
    "start_time": "2022-01-20T08:00:38.498Z"
   },
   {
    "duration": 268,
    "start_time": "2022-01-20T08:00:39.044Z"
   },
   {
    "duration": 261,
    "start_time": "2022-01-20T08:00:39.315Z"
   },
   {
    "duration": 838,
    "start_time": "2022-01-20T08:00:39.579Z"
   },
   {
    "duration": 209,
    "start_time": "2022-01-20T08:00:40.420Z"
   },
   {
    "duration": 213,
    "start_time": "2022-01-20T08:00:40.632Z"
   },
   {
    "duration": 599,
    "start_time": "2022-01-20T08:00:40.847Z"
   },
   {
    "duration": 29,
    "start_time": "2022-01-20T08:00:41.448Z"
   },
   {
    "duration": 21,
    "start_time": "2022-01-20T08:00:41.479Z"
   },
   {
    "duration": 21,
    "start_time": "2022-01-20T08:00:41.502Z"
   },
   {
    "duration": 58,
    "start_time": "2022-01-20T08:00:41.525Z"
   },
   {
    "duration": 1167,
    "start_time": "2022-02-23T19:49:28.329Z"
   },
   {
    "duration": 1807,
    "start_time": "2022-02-23T19:49:29.498Z"
   },
   {
    "duration": -917,
    "start_time": "2022-02-23T19:49:32.225Z"
   },
   {
    "duration": -924,
    "start_time": "2022-02-23T19:49:32.233Z"
   },
   {
    "duration": -927,
    "start_time": "2022-02-23T19:49:32.237Z"
   },
   {
    "duration": -928,
    "start_time": "2022-02-23T19:49:32.239Z"
   },
   {
    "duration": -930,
    "start_time": "2022-02-23T19:49:32.242Z"
   },
   {
    "duration": -932,
    "start_time": "2022-02-23T19:49:32.245Z"
   },
   {
    "duration": -933,
    "start_time": "2022-02-23T19:49:32.247Z"
   },
   {
    "duration": -934,
    "start_time": "2022-02-23T19:49:32.249Z"
   },
   {
    "duration": -936,
    "start_time": "2022-02-23T19:49:32.252Z"
   },
   {
    "duration": -937,
    "start_time": "2022-02-23T19:49:32.254Z"
   },
   {
    "duration": -939,
    "start_time": "2022-02-23T19:49:32.257Z"
   },
   {
    "duration": -940,
    "start_time": "2022-02-23T19:49:32.259Z"
   },
   {
    "duration": -941,
    "start_time": "2022-02-23T19:49:32.261Z"
   },
   {
    "duration": -954,
    "start_time": "2022-02-23T19:49:32.275Z"
   },
   {
    "duration": -957,
    "start_time": "2022-02-23T19:49:32.279Z"
   },
   {
    "duration": -958,
    "start_time": "2022-02-23T19:49:32.281Z"
   },
   {
    "duration": -958,
    "start_time": "2022-02-23T19:49:32.283Z"
   },
   {
    "duration": -959,
    "start_time": "2022-02-23T19:49:32.285Z"
   },
   {
    "duration": -961,
    "start_time": "2022-02-23T19:49:32.288Z"
   },
   {
    "duration": -962,
    "start_time": "2022-02-23T19:49:32.290Z"
   },
   {
    "duration": -964,
    "start_time": "2022-02-23T19:49:32.292Z"
   },
   {
    "duration": -967,
    "start_time": "2022-02-23T19:49:32.296Z"
   },
   {
    "duration": -969,
    "start_time": "2022-02-23T19:49:32.299Z"
   },
   {
    "duration": -971,
    "start_time": "2022-02-23T19:49:32.302Z"
   },
   {
    "duration": -972,
    "start_time": "2022-02-23T19:49:32.304Z"
   },
   {
    "duration": -973,
    "start_time": "2022-02-23T19:49:32.306Z"
   },
   {
    "duration": -975,
    "start_time": "2022-02-23T19:49:32.309Z"
   },
   {
    "duration": -983,
    "start_time": "2022-02-23T19:49:32.318Z"
   },
   {
    "duration": -988,
    "start_time": "2022-02-23T19:49:32.324Z"
   },
   {
    "duration": -993,
    "start_time": "2022-02-23T19:49:32.330Z"
   },
   {
    "duration": -1007,
    "start_time": "2022-02-23T19:49:32.346Z"
   },
   {
    "duration": -1027,
    "start_time": "2022-02-23T19:49:32.367Z"
   },
   {
    "duration": -1040,
    "start_time": "2022-02-23T19:49:32.381Z"
   },
   {
    "duration": -1064,
    "start_time": "2022-02-23T19:49:32.405Z"
   },
   {
    "duration": -1081,
    "start_time": "2022-02-23T19:49:32.423Z"
   },
   {
    "duration": -1094,
    "start_time": "2022-02-23T19:49:32.437Z"
   },
   {
    "duration": -1124,
    "start_time": "2022-02-23T19:49:32.468Z"
   },
   {
    "duration": -1145,
    "start_time": "2022-02-23T19:49:32.490Z"
   },
   {
    "duration": -1148,
    "start_time": "2022-02-23T19:49:32.494Z"
   },
   {
    "duration": -1152,
    "start_time": "2022-02-23T19:49:32.499Z"
   },
   {
    "duration": -1159,
    "start_time": "2022-02-23T19:49:32.507Z"
   },
   {
    "duration": -1161,
    "start_time": "2022-02-23T19:49:32.510Z"
   },
   {
    "duration": -1167,
    "start_time": "2022-02-23T19:49:32.517Z"
   },
   {
    "duration": -1172,
    "start_time": "2022-02-23T19:49:32.523Z"
   },
   {
    "duration": 1769,
    "start_time": "2022-02-23T19:50:07.141Z"
   },
   {
    "duration": 38,
    "start_time": "2022-02-23T19:50:28.693Z"
   },
   {
    "duration": 1128,
    "start_time": "2022-02-23T19:50:33.627Z"
   },
   {
    "duration": 33,
    "start_time": "2022-02-23T19:50:34.757Z"
   },
   {
    "duration": 32,
    "start_time": "2022-02-23T19:50:34.792Z"
   },
   {
    "duration": 16,
    "start_time": "2022-02-23T19:50:34.826Z"
   },
   {
    "duration": 3,
    "start_time": "2022-02-23T19:50:34.844Z"
   },
   {
    "duration": 10,
    "start_time": "2022-02-23T19:50:34.849Z"
   },
   {
    "duration": 23,
    "start_time": "2022-02-23T19:50:34.860Z"
   },
   {
    "duration": 2,
    "start_time": "2022-02-23T19:50:34.886Z"
   },
   {
    "duration": 39,
    "start_time": "2022-02-23T19:50:34.890Z"
   },
   {
    "duration": 4,
    "start_time": "2022-02-23T19:50:34.931Z"
   },
   {
    "duration": 10,
    "start_time": "2022-02-23T19:50:34.937Z"
   },
   {
    "duration": 6,
    "start_time": "2022-02-23T19:50:34.948Z"
   },
   {
    "duration": 5,
    "start_time": "2022-02-23T19:50:34.956Z"
   },
   {
    "duration": 59,
    "start_time": "2022-02-23T19:50:34.963Z"
   },
   {
    "duration": 344,
    "start_time": "2022-02-23T19:50:35.025Z"
   },
   {
    "duration": 305,
    "start_time": "2022-02-23T19:50:35.371Z"
   },
   {
    "duration": 6,
    "start_time": "2022-02-23T19:50:35.678Z"
   },
   {
    "duration": 56,
    "start_time": "2022-02-23T19:50:35.685Z"
   },
   {
    "duration": 7,
    "start_time": "2022-02-23T19:50:35.743Z"
   },
   {
    "duration": 417,
    "start_time": "2022-02-23T19:50:35.752Z"
   },
   {
    "duration": 27,
    "start_time": "2022-02-23T19:50:36.171Z"
   },
   {
    "duration": 513,
    "start_time": "2022-02-23T19:50:36.199Z"
   },
   {
    "duration": 17,
    "start_time": "2022-02-23T19:50:36.716Z"
   },
   {
    "duration": 32,
    "start_time": "2022-02-23T19:50:36.735Z"
   },
   {
    "duration": 395,
    "start_time": "2022-02-23T19:50:36.769Z"
   },
   {
    "duration": 27,
    "start_time": "2022-02-23T19:50:37.166Z"
   },
   {
    "duration": 339,
    "start_time": "2022-02-23T19:50:37.195Z"
   },
   {
    "duration": 1076,
    "start_time": "2022-02-23T19:50:37.535Z"
   },
   {
    "duration": 27,
    "start_time": "2022-02-23T19:50:38.612Z"
   },
   {
    "duration": 410,
    "start_time": "2022-02-23T19:50:38.641Z"
   },
   {
    "duration": 4,
    "start_time": "2022-02-23T19:50:39.053Z"
   },
   {
    "duration": 4,
    "start_time": "2022-02-23T19:50:39.059Z"
   },
   {
    "duration": 6,
    "start_time": "2022-02-23T19:50:39.065Z"
   },
   {
    "duration": 145,
    "start_time": "2022-02-23T19:50:39.073Z"
   },
   {
    "duration": 129,
    "start_time": "2022-02-23T19:50:39.220Z"
   },
   {
    "duration": 357,
    "start_time": "2022-02-23T19:50:39.351Z"
   },
   {
    "duration": 130,
    "start_time": "2022-02-23T19:50:39.709Z"
   },
   {
    "duration": 216,
    "start_time": "2022-02-23T19:50:39.841Z"
   },
   {
    "duration": 363,
    "start_time": "2022-02-23T19:50:40.059Z"
   },
   {
    "duration": 131,
    "start_time": "2022-02-23T19:50:40.423Z"
   },
   {
    "duration": 132,
    "start_time": "2022-02-23T19:50:40.556Z"
   },
   {
    "duration": 355,
    "start_time": "2022-02-23T19:50:40.690Z"
   },
   {
    "duration": 13,
    "start_time": "2022-02-23T19:50:41.047Z"
   },
   {
    "duration": 13,
    "start_time": "2022-02-23T19:50:41.062Z"
   },
   {
    "duration": 43,
    "start_time": "2022-02-23T19:50:41.077Z"
   },
   {
    "duration": 16,
    "start_time": "2022-02-23T19:50:41.122Z"
   }
  ],
  "kernelspec": {
   "display_name": "Python 3 (ipykernel)",
   "language": "python",
   "name": "python3"
  },
  "language_info": {
   "codemirror_mode": {
    "name": "ipython",
    "version": 3
   },
   "file_extension": ".py",
   "mimetype": "text/x-python",
   "name": "python",
   "nbconvert_exporter": "python",
   "pygments_lexer": "ipython3",
   "version": "3.10.0"
  },
  "toc": {
   "base_numbering": 1,
   "nav_menu": {},
   "number_sections": true,
   "sideBar": true,
   "skip_h1_title": true,
   "title_cell": "Table of Contents",
   "title_sidebar": "Contents",
   "toc_cell": false,
   "toc_position": {},
   "toc_section_display": true,
   "toc_window_display": false
  }
 },
 "nbformat": 4,
 "nbformat_minor": 4
}
